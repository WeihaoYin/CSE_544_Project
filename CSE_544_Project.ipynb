{
  "cells": [
    {
      "cell_type": "code",
      "execution_count": 3,
      "id": "7f585541",
      "metadata": {
        "id": "7f585541"
      },
      "outputs": [],
      "source": [
        "import pandas as pd\n",
        "import numpy as np\n",
        "import datetime as dt\n",
        "import random as rd\n",
        "import matplotlib.pyplot as plt\n",
        "import pdb # debugger\n",
        "import matplotlib.dates as mdates\n",
        "from scipy import stats\n",
        "from scipy.special import loggamma"
      ]
    },
    {
      "cell_type": "markdown",
      "id": "fb07b882",
      "metadata": {
        "id": "fb07b882"
      },
      "source": [
        "# <h1><center>Import Data</center></h1>"
      ]
    },
    {
      "cell_type": "code",
      "execution_count": 33,
      "id": "627f0122",
      "metadata": {
        "id": "627f0122"
      },
      "outputs": [],
      "source": [
        "original_cases_data = pd.read_csv(\"United_States_COVID-19_Cases_and_Deaths_by_State_over_Time.csv\")\n",
        "\n",
        "# Get columns needed\n",
        "original_cases_data = original_cases_data.loc[:, ['submission_date', 'state', 'new_case', 'new_death']]\n",
        "\n",
        "# Transform string date to datetime format\n",
        "original_cases_data.loc[:, ['submission_date']] = pd.to_datetime(original_cases_data['submission_date'],\n",
        "                                    infer_datetime_format=True)\n",
        "\n",
        "# Get two states\n",
        "original_cases_data_ME = original_cases_data.loc[(original_cases_data[\"state\"] == \"ME\")].copy()\n",
        "original_cases_data_KY = original_cases_data.loc[(original_cases_data[\"state\"] == \"KY\")].copy()\n",
        "\n",
        "# Sort by date\n",
        "original_cases_data_ME.drop(columns=['state'], inplace=True)\n",
        "original_cases_data_ME.sort_values(by='submission_date', inplace=True)\n",
        "original_cases_data_ME.reset_index(drop=True, inplace=True)\n",
        "original_cases_data_KY.drop(columns=['state'], inplace=True)\n",
        "original_cases_data_KY.sort_values(by='submission_date', inplace=True)\n",
        "original_cases_data_KY.reset_index(drop=True, inplace=True)"
      ]
    },
    {
      "cell_type": "code",
      "execution_count": 34,
      "id": "8da5be7b",
      "metadata": {
        "id": "8da5be7b"
      },
      "outputs": [],
      "source": [
        "original_vaccinations_data = pd.read_csv(\"COVID-19_Vaccinations_in_the_United_States_Jurisdiction.csv\")\n",
        "\n",
        "# Get columns needed\n",
        "original_vaccinations_data = original_vaccinations_data.loc[:, ['Date', 'Location', 'Administered']]\n",
        "\n",
        "# Transform string date to datetime format\n",
        "original_vaccinations_data.loc[:, ['Date']] = pd.to_datetime(original_vaccinations_data['Date'],\n",
        "                                    infer_datetime_format=True)\n",
        "\n",
        "# Get two states\n",
        "original_vaccinations_data_ME = original_vaccinations_data.loc[(original_vaccinations_data[\"Location\"] == \"ME\")].copy()\n",
        "original_vaccinations_data_KY = original_vaccinations_data.loc[(original_vaccinations_data[\"Location\"] == \"KY\")].copy()\n",
        "\n",
        "# Sort by date\n",
        "original_vaccinations_data_ME.drop(columns=['Location'], inplace=True)\n",
        "original_vaccinations_data_ME.sort_values(by='Date', inplace=True)\n",
        "original_vaccinations_data_ME.reset_index(drop=True, inplace=True)\n",
        "original_vaccinations_data_KY.drop(columns=['Location'], inplace=True)\n",
        "original_vaccinations_data_KY.sort_values(by='Date', inplace=True)\n",
        "original_vaccinations_data_KY.reset_index(drop=True, inplace=True)"
      ]
    },
    {
      "cell_type": "markdown",
      "id": "03825fd2",
      "metadata": {
        "id": "03825fd2"
      },
      "source": [
        "## <h1><center>Information</center></h1>"
      ]
    },
    {
      "cell_type": "code",
      "execution_count": null,
      "id": "376d2171",
      "metadata": {
        "id": "376d2171",
        "outputId": "63bde8ac-f818-4ee6-c678-20c5c790deaa"
      },
      "outputs": [
        {
          "name": "stdout",
          "output_type": "stream",
          "text": [
            "<class 'pandas.core.frame.DataFrame'>\n",
            "RangeIndex: 845 entries, 0 to 844\n",
            "Data columns (total 3 columns):\n",
            " #   Column           Non-Null Count  Dtype         \n",
            "---  ------           --------------  -----         \n",
            " 0   submission_date  845 non-null    datetime64[ns]\n",
            " 1   new_case         845 non-null    int64         \n",
            " 2   new_death        845 non-null    int64         \n",
            "dtypes: datetime64[ns](1), int64(2)\n",
            "memory usage: 19.9 KB\n",
            "\n",
            "<class 'pandas.core.frame.DataFrame'>\n",
            "RangeIndex: 845 entries, 0 to 844\n",
            "Data columns (total 3 columns):\n",
            " #   Column           Non-Null Count  Dtype         \n",
            "---  ------           --------------  -----         \n",
            " 0   submission_date  845 non-null    datetime64[ns]\n",
            " 1   new_case         845 non-null    int64         \n",
            " 2   new_death        845 non-null    int64         \n",
            "dtypes: datetime64[ns](1), int64(2)\n",
            "memory usage: 19.9 KB\n"
          ]
        }
      ],
      "source": [
        "original_cases_data_ME.info()\n",
        "print()\n",
        "original_cases_data_KY.info()"
      ]
    },
    {
      "cell_type": "code",
      "execution_count": null,
      "id": "a3cbb2b5",
      "metadata": {
        "id": "a3cbb2b5",
        "outputId": "da274945-d8d1-4621-8e4a-6491ab9501fa"
      },
      "outputs": [
        {
          "data": {
            "text/html": [
              "<div>\n",
              "<style scoped>\n",
              "    .dataframe tbody tr th:only-of-type {\n",
              "        vertical-align: middle;\n",
              "    }\n",
              "\n",
              "    .dataframe tbody tr th {\n",
              "        vertical-align: top;\n",
              "    }\n",
              "\n",
              "    .dataframe thead th {\n",
              "        text-align: right;\n",
              "    }\n",
              "</style>\n",
              "<table border=\"1\" class=\"dataframe\">\n",
              "  <thead>\n",
              "    <tr style=\"text-align: right;\">\n",
              "      <th></th>\n",
              "      <th>new_case</th>\n",
              "      <th>new_death</th>\n",
              "    </tr>\n",
              "  </thead>\n",
              "  <tbody>\n",
              "    <tr>\n",
              "      <th>count</th>\n",
              "      <td>845.000000</td>\n",
              "      <td>845.000000</td>\n",
              "    </tr>\n",
              "    <tr>\n",
              "      <th>mean</th>\n",
              "      <td>301.603550</td>\n",
              "      <td>2.764497</td>\n",
              "    </tr>\n",
              "    <tr>\n",
              "      <th>std</th>\n",
              "      <td>448.460598</td>\n",
              "      <td>5.903463</td>\n",
              "    </tr>\n",
              "    <tr>\n",
              "      <th>min</th>\n",
              "      <td>-2.000000</td>\n",
              "      <td>-1.000000</td>\n",
              "    </tr>\n",
              "    <tr>\n",
              "      <th>25%</th>\n",
              "      <td>26.000000</td>\n",
              "      <td>0.000000</td>\n",
              "    </tr>\n",
              "    <tr>\n",
              "      <th>50%</th>\n",
              "      <td>160.000000</td>\n",
              "      <td>1.000000</td>\n",
              "    </tr>\n",
              "    <tr>\n",
              "      <th>75%</th>\n",
              "      <td>398.000000</td>\n",
              "      <td>2.000000</td>\n",
              "    </tr>\n",
              "    <tr>\n",
              "      <th>max</th>\n",
              "      <td>3412.000000</td>\n",
              "      <td>53.000000</td>\n",
              "    </tr>\n",
              "  </tbody>\n",
              "</table>\n",
              "</div>"
            ],
            "text/plain": [
              "          new_case   new_death\n",
              "count   845.000000  845.000000\n",
              "mean    301.603550    2.764497\n",
              "std     448.460598    5.903463\n",
              "min      -2.000000   -1.000000\n",
              "25%      26.000000    0.000000\n",
              "50%     160.000000    1.000000\n",
              "75%     398.000000    2.000000\n",
              "max    3412.000000   53.000000"
            ]
          },
          "execution_count": 5,
          "metadata": {},
          "output_type": "execute_result"
        }
      ],
      "source": [
        "original_cases_data_ME.describe()"
      ]
    },
    {
      "cell_type": "code",
      "execution_count": null,
      "id": "4c7ce7ca",
      "metadata": {
        "id": "4c7ce7ca",
        "outputId": "0615d552-f4eb-4be5-b882-c8841f8ae302"
      },
      "outputs": [
        {
          "data": {
            "text/html": [
              "<div>\n",
              "<style scoped>\n",
              "    .dataframe tbody tr th:only-of-type {\n",
              "        vertical-align: middle;\n",
              "    }\n",
              "\n",
              "    .dataframe tbody tr th {\n",
              "        vertical-align: top;\n",
              "    }\n",
              "\n",
              "    .dataframe thead th {\n",
              "        text-align: right;\n",
              "    }\n",
              "</style>\n",
              "<table border=\"1\" class=\"dataframe\">\n",
              "  <thead>\n",
              "    <tr style=\"text-align: right;\">\n",
              "      <th></th>\n",
              "      <th>new_case</th>\n",
              "      <th>new_death</th>\n",
              "    </tr>\n",
              "  </thead>\n",
              "  <tbody>\n",
              "    <tr>\n",
              "      <th>count</th>\n",
              "      <td>845.000000</td>\n",
              "      <td>845.000000</td>\n",
              "    </tr>\n",
              "    <tr>\n",
              "      <th>mean</th>\n",
              "      <td>1582.920710</td>\n",
              "      <td>18.717160</td>\n",
              "    </tr>\n",
              "    <tr>\n",
              "      <th>std</th>\n",
              "      <td>2375.601843</td>\n",
              "      <td>17.807734</td>\n",
              "    </tr>\n",
              "    <tr>\n",
              "      <th>min</th>\n",
              "      <td>0.000000</td>\n",
              "      <td>0.000000</td>\n",
              "    </tr>\n",
              "    <tr>\n",
              "      <th>25%</th>\n",
              "      <td>244.000000</td>\n",
              "      <td>5.000000</td>\n",
              "    </tr>\n",
              "    <tr>\n",
              "      <th>50%</th>\n",
              "      <td>712.000000</td>\n",
              "      <td>11.000000</td>\n",
              "    </tr>\n",
              "    <tr>\n",
              "      <th>75%</th>\n",
              "      <td>2056.000000</td>\n",
              "      <td>30.000000</td>\n",
              "    </tr>\n",
              "    <tr>\n",
              "      <th>max</th>\n",
              "      <td>18221.000000</td>\n",
              "      <td>79.000000</td>\n",
              "    </tr>\n",
              "  </tbody>\n",
              "</table>\n",
              "</div>"
            ],
            "text/plain": [
              "           new_case   new_death\n",
              "count    845.000000  845.000000\n",
              "mean    1582.920710   18.717160\n",
              "std     2375.601843   17.807734\n",
              "min        0.000000    0.000000\n",
              "25%      244.000000    5.000000\n",
              "50%      712.000000   11.000000\n",
              "75%     2056.000000   30.000000\n",
              "max    18221.000000   79.000000"
            ]
          },
          "execution_count": 6,
          "metadata": {},
          "output_type": "execute_result"
        }
      ],
      "source": [
        "original_cases_data_KY.describe()"
      ]
    },
    {
      "cell_type": "code",
      "execution_count": null,
      "id": "8bc5dde4",
      "metadata": {
        "id": "8bc5dde4",
        "outputId": "606adb69-15da-466f-f2f7-1f61e56726d0"
      },
      "outputs": [
        {
          "name": "stdout",
          "output_type": "stream",
          "text": [
            "<class 'pandas.core.frame.DataFrame'>\n",
            "RangeIndex: 519 entries, 0 to 518\n",
            "Data columns (total 2 columns):\n",
            " #   Column        Non-Null Count  Dtype         \n",
            "---  ------        --------------  -----         \n",
            " 0   Date          519 non-null    datetime64[ns]\n",
            " 1   Administered  519 non-null    int64         \n",
            "dtypes: datetime64[ns](1), int64(1)\n",
            "memory usage: 8.2 KB\n",
            "\n",
            "<class 'pandas.core.frame.DataFrame'>\n",
            "RangeIndex: 519 entries, 0 to 518\n",
            "Data columns (total 2 columns):\n",
            " #   Column        Non-Null Count  Dtype         \n",
            "---  ------        --------------  -----         \n",
            " 0   Date          519 non-null    datetime64[ns]\n",
            " 1   Administered  519 non-null    int64         \n",
            "dtypes: datetime64[ns](1), int64(1)\n",
            "memory usage: 8.2 KB\n"
          ]
        }
      ],
      "source": [
        "original_vaccinations_data_ME.info()\n",
        "print()\n",
        "original_vaccinations_data_KY.info()"
      ]
    },
    {
      "cell_type": "code",
      "execution_count": null,
      "id": "cf7447c3",
      "metadata": {
        "id": "cf7447c3",
        "outputId": "cb8cd863-32a5-4ba5-a278-c1d29fdef394"
      },
      "outputs": [
        {
          "data": {
            "text/html": [
              "<div>\n",
              "<style scoped>\n",
              "    .dataframe tbody tr th:only-of-type {\n",
              "        vertical-align: middle;\n",
              "    }\n",
              "\n",
              "    .dataframe tbody tr th {\n",
              "        vertical-align: top;\n",
              "    }\n",
              "\n",
              "    .dataframe thead th {\n",
              "        text-align: right;\n",
              "    }\n",
              "</style>\n",
              "<table border=\"1\" class=\"dataframe\">\n",
              "  <thead>\n",
              "    <tr style=\"text-align: right;\">\n",
              "      <th></th>\n",
              "      <th>Administered</th>\n",
              "    </tr>\n",
              "  </thead>\n",
              "  <tbody>\n",
              "    <tr>\n",
              "      <th>count</th>\n",
              "      <td>5.190000e+02</td>\n",
              "    </tr>\n",
              "    <tr>\n",
              "      <th>mean</th>\n",
              "      <td>1.665704e+06</td>\n",
              "    </tr>\n",
              "    <tr>\n",
              "      <th>std</th>\n",
              "      <td>9.033366e+05</td>\n",
              "    </tr>\n",
              "    <tr>\n",
              "      <th>min</th>\n",
              "      <td>0.000000e+00</td>\n",
              "    </tr>\n",
              "    <tr>\n",
              "      <th>25%</th>\n",
              "      <td>1.078156e+06</td>\n",
              "    </tr>\n",
              "    <tr>\n",
              "      <th>50%</th>\n",
              "      <td>1.735465e+06</td>\n",
              "    </tr>\n",
              "    <tr>\n",
              "      <th>75%</th>\n",
              "      <td>2.548532e+06</td>\n",
              "    </tr>\n",
              "    <tr>\n",
              "      <th>max</th>\n",
              "      <td>2.885836e+06</td>\n",
              "    </tr>\n",
              "  </tbody>\n",
              "</table>\n",
              "</div>"
            ],
            "text/plain": [
              "       Administered\n",
              "count  5.190000e+02\n",
              "mean   1.665704e+06\n",
              "std    9.033366e+05\n",
              "min    0.000000e+00\n",
              "25%    1.078156e+06\n",
              "50%    1.735465e+06\n",
              "75%    2.548532e+06\n",
              "max    2.885836e+06"
            ]
          },
          "execution_count": 8,
          "metadata": {},
          "output_type": "execute_result"
        }
      ],
      "source": [
        "original_vaccinations_data_ME.describe()"
      ]
    },
    {
      "cell_type": "code",
      "execution_count": null,
      "id": "7ab8ce6d",
      "metadata": {
        "id": "7ab8ce6d",
        "outputId": "8e46ca87-555e-4306-8965-1627f6a0e786"
      },
      "outputs": [
        {
          "data": {
            "text/html": [
              "<div>\n",
              "<style scoped>\n",
              "    .dataframe tbody tr th:only-of-type {\n",
              "        vertical-align: middle;\n",
              "    }\n",
              "\n",
              "    .dataframe tbody tr th {\n",
              "        vertical-align: top;\n",
              "    }\n",
              "\n",
              "    .dataframe thead th {\n",
              "        text-align: right;\n",
              "    }\n",
              "</style>\n",
              "<table border=\"1\" class=\"dataframe\">\n",
              "  <thead>\n",
              "    <tr style=\"text-align: right;\">\n",
              "      <th></th>\n",
              "      <th>Administered</th>\n",
              "    </tr>\n",
              "  </thead>\n",
              "  <tbody>\n",
              "    <tr>\n",
              "      <th>count</th>\n",
              "      <td>5.190000e+02</td>\n",
              "    </tr>\n",
              "    <tr>\n",
              "      <th>mean</th>\n",
              "      <td>4.104724e+06</td>\n",
              "    </tr>\n",
              "    <tr>\n",
              "      <th>std</th>\n",
              "      <td>2.069377e+06</td>\n",
              "    </tr>\n",
              "    <tr>\n",
              "      <th>min</th>\n",
              "      <td>0.000000e+00</td>\n",
              "    </tr>\n",
              "    <tr>\n",
              "      <th>25%</th>\n",
              "      <td>2.956012e+06</td>\n",
              "    </tr>\n",
              "    <tr>\n",
              "      <th>50%</th>\n",
              "      <td>4.547219e+06</td>\n",
              "    </tr>\n",
              "    <tr>\n",
              "      <th>75%</th>\n",
              "      <td>5.971950e+06</td>\n",
              "    </tr>\n",
              "    <tr>\n",
              "      <th>max</th>\n",
              "      <td>6.574780e+06</td>\n",
              "    </tr>\n",
              "  </tbody>\n",
              "</table>\n",
              "</div>"
            ],
            "text/plain": [
              "       Administered\n",
              "count  5.190000e+02\n",
              "mean   4.104724e+06\n",
              "std    2.069377e+06\n",
              "min    0.000000e+00\n",
              "25%    2.956012e+06\n",
              "50%    4.547219e+06\n",
              "75%    5.971950e+06\n",
              "max    6.574780e+06"
            ]
          },
          "execution_count": 9,
          "metadata": {},
          "output_type": "execute_result"
        }
      ],
      "source": [
        "original_vaccinations_data_KY.describe()"
      ]
    },
    {
      "cell_type": "markdown",
      "id": "4c83de6a",
      "metadata": {
        "id": "4c83de6a"
      },
      "source": [
        "# <h1><center>Mandatory Tasks</center></h1>"
      ]
    },
    {
      "cell_type": "markdown",
      "id": "cea386ba",
      "metadata": {
        "id": "cea386ba"
      },
      "source": [
        "## Data Cleaning"
      ]
    },
    {
      "cell_type": "markdown",
      "id": "72a6fc62",
      "metadata": {
        "id": "72a6fc62"
      },
      "source": [
        "* ### Clean Dataset"
      ]
    },
    {
      "cell_type": "markdown",
      "id": "432e3497",
      "metadata": {
        "id": "432e3497"
      },
      "source": [
        "#### <h3><center>Cases Dataset</center></h3>"
      ]
    },
    {
      "cell_type": "markdown",
      "id": "78e0cb7c",
      "metadata": {
        "id": "78e0cb7c"
      },
      "source": [
        "For cases dataset, there is no NA value. Dropna function will not have effect in this case."
      ]
    },
    {
      "cell_type": "code",
      "execution_count": null,
      "id": "b6dd2056",
      "metadata": {
        "id": "b6dd2056"
      },
      "outputs": [],
      "source": [
        "original_cases_data_ME = original_cases_data_ME.dropna()\n",
        "original_cases_data_KY = original_cases_data_KY.dropna()"
      ]
    },
    {
      "cell_type": "markdown",
      "id": "937a59a6",
      "metadata": {
        "id": "937a59a6"
      },
      "source": [
        "The min value of new case and new death should be great or equal to zero"
      ]
    },
    {
      "cell_type": "code",
      "execution_count": null,
      "id": "c8206127",
      "metadata": {
        "id": "c8206127"
      },
      "outputs": [],
      "source": [
        "original_cases_data_ME['new_case'] = original_cases_data_ME['new_case'].clip(lower=0)\n",
        "original_cases_data_KY['new_case'] = original_cases_data_KY['new_case'].clip(lower=0)\n",
        "\n",
        "original_cases_data_ME['new_death'] = original_cases_data_ME['new_death'].clip(lower=0)\n",
        "original_cases_data_KY['new_death'] = original_cases_data_KY['new_death'].clip(lower=0)"
      ]
    },
    {
      "cell_type": "markdown",
      "id": "c1c70186",
      "metadata": {
        "id": "c1c70186"
      },
      "source": [
        "Cases statistics after drop missing value and clip"
      ]
    },
    {
      "cell_type": "code",
      "execution_count": null,
      "id": "6a0d28c7",
      "metadata": {
        "id": "6a0d28c7",
        "outputId": "16cf4999-3145-47c2-fb6d-4f4e9b9f191a"
      },
      "outputs": [
        {
          "data": {
            "text/html": [
              "<div>\n",
              "<style scoped>\n",
              "    .dataframe tbody tr th:only-of-type {\n",
              "        vertical-align: middle;\n",
              "    }\n",
              "\n",
              "    .dataframe tbody tr th {\n",
              "        vertical-align: top;\n",
              "    }\n",
              "\n",
              "    .dataframe thead th {\n",
              "        text-align: right;\n",
              "    }\n",
              "</style>\n",
              "<table border=\"1\" class=\"dataframe\">\n",
              "  <thead>\n",
              "    <tr style=\"text-align: right;\">\n",
              "      <th></th>\n",
              "      <th>new_case</th>\n",
              "      <th>new_death</th>\n",
              "    </tr>\n",
              "  </thead>\n",
              "  <tbody>\n",
              "    <tr>\n",
              "      <th>count</th>\n",
              "      <td>845.000000</td>\n",
              "      <td>845.000000</td>\n",
              "    </tr>\n",
              "    <tr>\n",
              "      <th>mean</th>\n",
              "      <td>301.605917</td>\n",
              "      <td>2.770414</td>\n",
              "    </tr>\n",
              "    <tr>\n",
              "      <th>std</th>\n",
              "      <td>448.458999</td>\n",
              "      <td>5.900183</td>\n",
              "    </tr>\n",
              "    <tr>\n",
              "      <th>min</th>\n",
              "      <td>0.000000</td>\n",
              "      <td>0.000000</td>\n",
              "    </tr>\n",
              "    <tr>\n",
              "      <th>25%</th>\n",
              "      <td>26.000000</td>\n",
              "      <td>0.000000</td>\n",
              "    </tr>\n",
              "    <tr>\n",
              "      <th>50%</th>\n",
              "      <td>160.000000</td>\n",
              "      <td>1.000000</td>\n",
              "    </tr>\n",
              "    <tr>\n",
              "      <th>75%</th>\n",
              "      <td>398.000000</td>\n",
              "      <td>2.000000</td>\n",
              "    </tr>\n",
              "    <tr>\n",
              "      <th>max</th>\n",
              "      <td>3412.000000</td>\n",
              "      <td>53.000000</td>\n",
              "    </tr>\n",
              "  </tbody>\n",
              "</table>\n",
              "</div>"
            ],
            "text/plain": [
              "          new_case   new_death\n",
              "count   845.000000  845.000000\n",
              "mean    301.605917    2.770414\n",
              "std     448.458999    5.900183\n",
              "min       0.000000    0.000000\n",
              "25%      26.000000    0.000000\n",
              "50%     160.000000    1.000000\n",
              "75%     398.000000    2.000000\n",
              "max    3412.000000   53.000000"
            ]
          },
          "execution_count": 12,
          "metadata": {},
          "output_type": "execute_result"
        }
      ],
      "source": [
        "original_cases_data_ME.describe()"
      ]
    },
    {
      "cell_type": "code",
      "execution_count": null,
      "id": "990fe77f",
      "metadata": {
        "id": "990fe77f",
        "outputId": "2bb8cfe3-9120-4a91-8ba4-a2bfc9f4b567"
      },
      "outputs": [
        {
          "data": {
            "text/html": [
              "<div>\n",
              "<style scoped>\n",
              "    .dataframe tbody tr th:only-of-type {\n",
              "        vertical-align: middle;\n",
              "    }\n",
              "\n",
              "    .dataframe tbody tr th {\n",
              "        vertical-align: top;\n",
              "    }\n",
              "\n",
              "    .dataframe thead th {\n",
              "        text-align: right;\n",
              "    }\n",
              "</style>\n",
              "<table border=\"1\" class=\"dataframe\">\n",
              "  <thead>\n",
              "    <tr style=\"text-align: right;\">\n",
              "      <th></th>\n",
              "      <th>new_case</th>\n",
              "      <th>new_death</th>\n",
              "    </tr>\n",
              "  </thead>\n",
              "  <tbody>\n",
              "    <tr>\n",
              "      <th>count</th>\n",
              "      <td>845.000000</td>\n",
              "      <td>845.000000</td>\n",
              "    </tr>\n",
              "    <tr>\n",
              "      <th>mean</th>\n",
              "      <td>1582.920710</td>\n",
              "      <td>18.717160</td>\n",
              "    </tr>\n",
              "    <tr>\n",
              "      <th>std</th>\n",
              "      <td>2375.601843</td>\n",
              "      <td>17.807734</td>\n",
              "    </tr>\n",
              "    <tr>\n",
              "      <th>min</th>\n",
              "      <td>0.000000</td>\n",
              "      <td>0.000000</td>\n",
              "    </tr>\n",
              "    <tr>\n",
              "      <th>25%</th>\n",
              "      <td>244.000000</td>\n",
              "      <td>5.000000</td>\n",
              "    </tr>\n",
              "    <tr>\n",
              "      <th>50%</th>\n",
              "      <td>712.000000</td>\n",
              "      <td>11.000000</td>\n",
              "    </tr>\n",
              "    <tr>\n",
              "      <th>75%</th>\n",
              "      <td>2056.000000</td>\n",
              "      <td>30.000000</td>\n",
              "    </tr>\n",
              "    <tr>\n",
              "      <th>max</th>\n",
              "      <td>18221.000000</td>\n",
              "      <td>79.000000</td>\n",
              "    </tr>\n",
              "  </tbody>\n",
              "</table>\n",
              "</div>"
            ],
            "text/plain": [
              "           new_case   new_death\n",
              "count    845.000000  845.000000\n",
              "mean    1582.920710   18.717160\n",
              "std     2375.601843   17.807734\n",
              "min        0.000000    0.000000\n",
              "25%      244.000000    5.000000\n",
              "50%      712.000000   11.000000\n",
              "75%     2056.000000   30.000000\n",
              "max    18221.000000   79.000000"
            ]
          },
          "execution_count": 13,
          "metadata": {},
          "output_type": "execute_result"
        }
      ],
      "source": [
        "original_cases_data_KY.describe()"
      ]
    },
    {
      "cell_type": "markdown",
      "id": "06381a5d",
      "metadata": {
        "id": "06381a5d"
      },
      "source": [
        "#### <h3><center>Vaccinations Dataset</center></h3>"
      ]
    },
    {
      "cell_type": "markdown",
      "id": "b4c15d3d",
      "metadata": {
        "id": "b4c15d3d"
      },
      "source": [
        "No NA values in vaccinations dataset. Dropna will have no effect."
      ]
    },
    {
      "cell_type": "code",
      "execution_count": 35,
      "id": "fce0baa9",
      "metadata": {
        "id": "fce0baa9"
      },
      "outputs": [],
      "source": [
        "original_vaccinations_data_ME = original_vaccinations_data_ME.dropna()\n",
        "original_vaccinations_data_KY = original_vaccinations_data_KY.dropna()"
      ]
    },
    {
      "cell_type": "code",
      "source": [
        "# Convert to new administered per day\n",
        "original_vaccinations_data_ME['Administered'] = original_vaccinations_data_ME['Administered'].diff()\n",
        "original_vaccinations_data_ME['Administered'].iloc[0] = 0   # Ignore warning here\n",
        "original_vaccinations_data_KY['Administered'] = original_vaccinations_data_KY['Administered'].diff()\n",
        "original_vaccinations_data_KY['Administered'].iloc[0] = 0   # Ignore warning here"
      ],
      "metadata": {
        "colab": {
          "base_uri": "https://localhost:8080/"
        },
        "id": "fKSy-qKi5YXP",
        "outputId": "fb582d87-5c66-425e-a0cb-b89c75f8d4ea"
      },
      "id": "fKSy-qKi5YXP",
      "execution_count": 36,
      "outputs": [
        {
          "output_type": "stream",
          "name": "stderr",
          "text": [
            "/usr/local/lib/python3.7/dist-packages/pandas/core/indexing.py:1732: SettingWithCopyWarning: \n",
            "A value is trying to be set on a copy of a slice from a DataFrame\n",
            "\n",
            "See the caveats in the documentation: https://pandas.pydata.org/pandas-docs/stable/user_guide/indexing.html#returning-a-view-versus-a-copy\n",
            "  self._setitem_single_block(indexer, value, name)\n"
          ]
        }
      ]
    },
    {
      "cell_type": "markdown",
      "id": "b83adfe0",
      "metadata": {
        "id": "b83adfe0"
      },
      "source": [
        "* ### Outlier Detection"
      ]
    },
    {
      "cell_type": "code",
      "execution_count": 38,
      "id": "4b73248e",
      "metadata": {
        "id": "4b73248e"
      },
      "outputs": [],
      "source": [
        "def outlier_detection(original_data):\n",
        "    cases_summary = original_data.describe()\n",
        "    Q1 = cases_summary.iloc[4]\n",
        "    Q3 = cases_summary.iloc[6]\n",
        "    IQR = Q3 - Q1\n",
        "    lower_bound = Q1 - 1.5 * IQR\n",
        "    upper_bound = Q3 + 1.5 * IQR\n",
        "    \n",
        "    for i,col in enumerate(cases_summary.columns):\n",
        "        lb = lower_bound[i]\n",
        "        ub = upper_bound[i]\n",
        "        original_data = original_data.loc[(original_data[col] >= lb) & (original_data[col] <= ub)]\n",
        "    \n",
        "    return original_data"
      ]
    },
    {
      "cell_type": "code",
      "execution_count": 39,
      "id": "49f1c972",
      "metadata": {
        "colab": {
          "base_uri": "https://localhost:8080/"
        },
        "id": "49f1c972",
        "outputId": "3ac187fa-4215-4a74-9cbe-2e491b0892e4"
      },
      "outputs": [
        {
          "output_type": "stream",
          "name": "stdout",
          "text": [
            "original number of samples of ME is 836, after removing the outliers the number of samples of ME is 697\n",
            "original number of samples of KY is 836, after removing the outliers the number of samples of KY is 772\n"
          ]
        }
      ],
      "source": [
        "cases_data_ME = outlier_detection(original_cases_data_ME)\n",
        "cases_data_KY = outlier_detection(original_cases_data_KY)\n",
        "print(('original number of samples of ME is {}, after removing the outliers the number of samples of ME is {}').format(len(original_cases_data_ME), len(cases_data_ME)))\n",
        "print(('original number of samples of KY is {}, after removing the outliers the number of samples of KY is {}').format(len(original_cases_data_KY), len(cases_data_KY)))"
      ]
    },
    {
      "cell_type": "markdown",
      "id": "a161f0a3",
      "metadata": {
        "id": "a161f0a3"
      },
      "source": [
        "After applying the Tukey's rule some outliers were being removed"
      ]
    },
    {
      "cell_type": "code",
      "execution_count": 40,
      "id": "076ececf",
      "metadata": {
        "colab": {
          "base_uri": "https://localhost:8080/"
        },
        "id": "076ececf",
        "outputId": "065e0779-e9d7-4e82-eba6-6153d54d07c4"
      },
      "outputs": [
        {
          "output_type": "stream",
          "name": "stdout",
          "text": [
            "original number of samples of ME is 510, after removing the outliers the number of samples of ME is 470\n",
            "original number of samples of KY is 510, after removing the outliers the number of samples of KY is 475\n"
          ]
        }
      ],
      "source": [
        "vaccinations_data_ME = outlier_detection(original_vaccinations_data_ME)\n",
        "vaccinations_data_KY = outlier_detection(original_vaccinations_data_KY)\n",
        "print(('original number of samples of ME is {}, after removing the outliers the number of samples of ME is {}').format(len(original_vaccinations_data_ME), len(vaccinations_data_ME)))\n",
        "print(('original number of samples of KY is {}, after removing the outliers the number of samples of KY is {}').format(len(original_vaccinations_data_KY), len(vaccinations_data_KY)))"
      ]
    },
    {
      "cell_type": "markdown",
      "id": "35b172f3",
      "metadata": {
        "id": "35b172f3"
      },
      "source": [
        "There is no outliers in vaccination dataset"
      ]
    },
    {
      "cell_type": "markdown",
      "id": "151bfb97",
      "metadata": {
        "id": "151bfb97"
      },
      "source": [
        "## Inferences"
      ]
    },
    {
      "cell_type": "markdown",
      "id": "0e89e285",
      "metadata": {
        "id": "0e89e285"
      },
      "source": [
        "### a. Check whether the mean of COVID19 deaths and #cases are different for Feb’21 and March’21 in the two states."
      ]
    },
    {
      "cell_type": "code",
      "execution_count": null,
      "id": "d7a440cf",
      "metadata": {
        "id": "d7a440cf"
      },
      "outputs": [],
      "source": [
        "ME_data = original_cases_data_ME.copy()\n",
        "ME_data = ME_data[ME_data[\"submission_date\"].dt.year == 2021]\n",
        "ME_data[\"submission_date\"] = ME_data[\"submission_date\"].dt.month\n",
        "\n",
        "KY_data = original_cases_data_KY.copy()\n",
        "KY_data = KY_data[KY_data[\"submission_date\"].dt.year == 2021]\n",
        "KY_data[\"submission_date\"] = KY_data[\"submission_date\"].dt.month"
      ]
    },
    {
      "cell_type": "markdown",
      "id": "608b64fb",
      "metadata": {
        "id": "608b64fb"
      },
      "source": [
        "#### Helper Functions"
      ]
    },
    {
      "cell_type": "code",
      "execution_count": null,
      "id": "805ed86d",
      "metadata": {
        "id": "805ed86d"
      },
      "outputs": [],
      "source": [
        "def mean(x):\n",
        "    n = len(x)\n",
        "    mean = np.sum(x) / n\n",
        "    return mean\n",
        "\n",
        "def sd(x):\n",
        "    n = len(x)\n",
        "    sd = np.sqrt(np.sum(np.square(x - mean(x)) / n))\n",
        "    return sd"
      ]
    },
    {
      "cell_type": "markdown",
      "id": "c86a6818",
      "metadata": {
        "id": "c86a6818"
      },
      "source": [
        "Use MLE for Wald’s test as the estimator; assume for Wald’s estimator purposes that daily data is Poisson distributed. After calculation, MLE for the estimator is sample mean, and its standard error estimator is sample mean divided by sample size."
      ]
    },
    {
      "cell_type": "code",
      "execution_count": null,
      "id": "336790e3",
      "metadata": {
        "id": "336790e3"
      },
      "outputs": [],
      "source": [
        "def Wald_test(x, mu = 0):\n",
        "    n = len(x)\n",
        "    w = (mean(x) - mu) / np.sqrt(mean(x) / n)\n",
        "    return w\n",
        "\n",
        "def Z_test(x, mu = 0):\n",
        "    n = len(x)\n",
        "    z = (mean(x) - mu) / (sd(x) / np.sqrt(n))\n",
        "    return z\n",
        "\n",
        "def t_test(x, mu = 0):\n",
        "    n = len(x)\n",
        "    t = (mean(x) - mu) / (sd(x) / np.sqrt(n))\n",
        "    return t"
      ]
    },
    {
      "cell_type": "code",
      "execution_count": null,
      "id": "82a8f5d8",
      "metadata": {
        "id": "82a8f5d8"
      },
      "outputs": [],
      "source": [
        "def Wald_test_2(x, y, d = 0):\n",
        "    n = len(x)\n",
        "    m = len(y)\n",
        "    w = ((mean(x) - mean(y)) - d) / np.sqrt((mean(x) / n) + (mean(y) / m))\n",
        "    return w\n",
        "\n",
        "def t_test_2(x, y, d = 0):\n",
        "    n = len(x)\n",
        "    m = len(y)\n",
        "    t = ((mean(x) - mean(y)) - d) / np.sqrt((np.square(sd(x)) / n) + (np.square(sd(y)) / m))\n",
        "    return t"
      ]
    },
    {
      "cell_type": "markdown",
      "id": "5abe3fa5",
      "metadata": {
        "id": "5abe3fa5"
      },
      "source": [
        "#### Part 1: \n",
        "    First use one-sample tests for Wald’s, Z-test, and t-test by computing the sample mean of daily values from Feb’21 and using that as a guess for mean of daily values for March’21"
      ]
    },
    {
      "cell_type": "markdown",
      "id": "b4cdd85b",
      "metadata": {
        "id": "b4cdd85b"
      },
      "source": [
        "<h4><center>Maine State</center></h4>"
      ]
    },
    {
      "cell_type": "code",
      "execution_count": null,
      "id": "8c331e98",
      "metadata": {
        "id": "8c331e98"
      },
      "outputs": [],
      "source": [
        "Feb_ME_cases = ME_data[ME_data[\"submission_date\"] == 2][\"new_case\"]\n",
        "Feb_ME_deaths = ME_data[ME_data[\"submission_date\"] == 2][\"new_death\"]\n",
        "\n",
        "Mar_ME_cases = ME_data[ME_data[\"submission_date\"] == 3][\"new_case\"]\n",
        "Mar_ME_deaths = ME_data[ME_data[\"submission_date\"] == 3][\"new_death\"]"
      ]
    },
    {
      "cell_type": "code",
      "execution_count": null,
      "id": "9b80465e",
      "metadata": {
        "id": "9b80465e"
      },
      "outputs": [],
      "source": [
        "Feb_mean_cases = mean(Feb_ME_cases)\n",
        "Feb_mean_deaths = mean(Feb_ME_deaths)"
      ]
    },
    {
      "cell_type": "markdown",
      "id": "ac551a73",
      "metadata": {
        "id": "ac551a73"
      },
      "source": [
        "* ##### Wald test"
      ]
    },
    {
      "cell_type": "code",
      "execution_count": null,
      "id": "437a3236",
      "metadata": {
        "id": "437a3236",
        "outputId": "b8cb51db-5693-4c8b-f369-37ba98820a3b"
      },
      "outputs": [
        {
          "name": "stdout",
          "output_type": "stream",
          "text": [
            "p-value for #cases is:  2.7367411481139397e-42\n",
            "p-value for deaths is:  1.2996996017585634e-34\n"
          ]
        }
      ],
      "source": [
        "W_case = Wald_test(Mar_ME_cases, Feb_mean_cases)\n",
        "p_case = 2 * stats.norm.sf(abs(W_case))\n",
        "\n",
        "W_death = Wald_test(Mar_ME_deaths, Feb_mean_deaths)\n",
        "p_death = 2 * stats.norm.sf(abs(W_death))\n",
        "\n",
        "print(\"p-value for #cases is: \", p_case)\n",
        "print(\"p-value for deaths is: \", p_death)"
      ]
    },
    {
      "cell_type": "markdown",
      "id": "872e0643",
      "metadata": {
        "id": "872e0643"
      },
      "source": [
        "* ##### Z-test"
      ]
    },
    {
      "cell_type": "code",
      "execution_count": null,
      "id": "373afa1a",
      "metadata": {
        "id": "373afa1a",
        "outputId": "b0a15b85-d43f-4bc3-c245-a9810a6b043c"
      },
      "outputs": [
        {
          "name": "stdout",
          "output_type": "stream",
          "text": [
            "p-value for #cases is:  0.02278449748858519\n",
            "p-value for deaths is:  7.77068417273477e-06\n"
          ]
        }
      ],
      "source": [
        "Z_case = Z_test(Mar_ME_cases, Feb_mean_cases)\n",
        "p_case = 2 * stats.norm.sf(abs(Z_case))\n",
        "\n",
        "Z_death = Z_test(Mar_ME_deaths, Feb_mean_deaths)\n",
        "p_death = 2 * stats.norm.sf(abs(Z_death))\n",
        "\n",
        "print(\"p-value for #cases is: \", p_case)\n",
        "print(\"p-value for deaths is: \", p_death)"
      ]
    },
    {
      "cell_type": "markdown",
      "id": "7ed11ea6",
      "metadata": {
        "id": "7ed11ea6"
      },
      "source": [
        "* ##### t-test"
      ]
    },
    {
      "cell_type": "code",
      "execution_count": null,
      "id": "8b74caeb",
      "metadata": {
        "id": "8b74caeb",
        "outputId": "ade78567-8cf0-4de5-a611-3fc7a471ac0a"
      },
      "outputs": [
        {
          "name": "stdout",
          "output_type": "stream",
          "text": [
            "p-value for #cases is:  0.03008236592589231\n",
            "p-value for deaths is:  0.00010313145304921799\n"
          ]
        }
      ],
      "source": [
        "df = len(Mar_ME_cases) - 1\n",
        "\n",
        "t_case = t_test(Mar_ME_cases, Feb_mean_cases)\n",
        "p_case = 2 * stats.t.sf(abs(t_case), df)\n",
        "\n",
        "t_death = t_test(Mar_ME_deaths, Feb_mean_deaths)\n",
        "p_death = 2 * stats.t.sf(abs(t_death), df)\n",
        "\n",
        "print(\"p-value for #cases is: \", p_case)\n",
        "print(\"p-value for deaths is: \", p_death)"
      ]
    },
    {
      "cell_type": "markdown",
      "id": "05fd72ea",
      "metadata": {
        "id": "05fd72ea"
      },
      "source": [
        "##### Conclusion:\n",
        "The p-values from three one-sample tests are all smaller than 0.05, so we're able to reject the null hypethesis. Therefore, we can conclude that therea're significant difference in #cases and deaths between Feb'21 and Mar'21 in state ME."
      ]
    },
    {
      "cell_type": "markdown",
      "id": "084b47d5",
      "metadata": {
        "id": "084b47d5"
      },
      "source": [
        "<h4><center>Kentucky State</center></h4>"
      ]
    },
    {
      "cell_type": "code",
      "execution_count": null,
      "id": "cdd277f3",
      "metadata": {
        "id": "cdd277f3"
      },
      "outputs": [],
      "source": [
        "Feb_KY_cases = KY_data[KY_data[\"submission_date\"] == 2][\"new_case\"]\n",
        "Feb_KY_deaths = KY_data[KY_data[\"submission_date\"] == 2][\"new_death\"]\n",
        "\n",
        "Mar_KY_cases = KY_data[KY_data[\"submission_date\"] == 3][\"new_case\"]\n",
        "Mar_KY_deaths = KY_data[KY_data[\"submission_date\"] == 3][\"new_death\"]"
      ]
    },
    {
      "cell_type": "code",
      "execution_count": null,
      "id": "d97ec560",
      "metadata": {
        "id": "d97ec560"
      },
      "outputs": [],
      "source": [
        "Feb_mean_cases = mean(Feb_KY_cases)\n",
        "Feb_mean_deaths = mean(Feb_KY_deaths)"
      ]
    },
    {
      "cell_type": "markdown",
      "id": "b9e048fc",
      "metadata": {
        "id": "b9e048fc"
      },
      "source": [
        "* ##### Wald test"
      ]
    },
    {
      "cell_type": "code",
      "execution_count": null,
      "id": "90202b35",
      "metadata": {
        "id": "90202b35",
        "outputId": "2c484c35-d74d-448f-9e3e-daa913c4467e"
      },
      "outputs": [
        {
          "name": "stdout",
          "output_type": "stream",
          "text": [
            "p-value for #cases is:  0.0\n",
            "p-value for deaths is:  1.7126041810925073e-149\n"
          ]
        }
      ],
      "source": [
        "W_case = Wald_test(Mar_KY_cases, Feb_mean_cases)\n",
        "p_case = 2 * stats.norm.sf(abs(W_case))\n",
        "\n",
        "W_death = Wald_test(Mar_KY_deaths, Feb_mean_deaths)\n",
        "p_death = 2 * stats.norm.sf(abs(W_death))\n",
        "\n",
        "print(\"p-value for #cases is: \", p_case)\n",
        "print(\"p-value for deaths is: \", p_death)"
      ]
    },
    {
      "cell_type": "markdown",
      "id": "45ba5ebb",
      "metadata": {
        "id": "45ba5ebb"
      },
      "source": [
        "* ##### Z-test"
      ]
    },
    {
      "cell_type": "code",
      "execution_count": null,
      "id": "831f4364",
      "metadata": {
        "id": "831f4364",
        "outputId": "bd49f6a4-4194-440d-e86c-0c970bec30a5"
      },
      "outputs": [
        {
          "name": "stdout",
          "output_type": "stream",
          "text": [
            "p-value for #cases is:  2.3241918476171816e-92\n",
            "p-value for deaths is:  2.2869615940908e-92\n"
          ]
        }
      ],
      "source": [
        "Z_case = Z_test(Mar_KY_cases, Feb_mean_cases)\n",
        "p_case = 2 * stats.norm.sf(abs(Z_case))\n",
        "\n",
        "Z_death = Z_test(Mar_KY_deaths, Feb_mean_deaths)\n",
        "p_death = 2 * stats.norm.sf(abs(Z_death))\n",
        "\n",
        "print(\"p-value for #cases is: \", p_case)\n",
        "print(\"p-value for deaths is: \", p_death)"
      ]
    },
    {
      "cell_type": "markdown",
      "id": "eb4de8ec",
      "metadata": {
        "id": "eb4de8ec"
      },
      "source": [
        "* ##### t-test"
      ]
    },
    {
      "cell_type": "code",
      "execution_count": null,
      "id": "00044d49",
      "metadata": {
        "id": "00044d49",
        "outputId": "d245015c-cc37-4d72-cb0e-02499806f979"
      },
      "outputs": [
        {
          "name": "stdout",
          "output_type": "stream",
          "text": [
            "p-value for #cases is:  3.9626245802498845e-19\n",
            "p-value for deaths is:  3.958318685750323e-19\n"
          ]
        }
      ],
      "source": [
        "df = len(Mar_KY_cases) - 1\n",
        "\n",
        "t_case = t_test(Mar_KY_cases, Feb_mean_cases)\n",
        "p_case = 2 * stats.t.sf(abs(t_case), df)\n",
        "\n",
        "t_death = t_test(Mar_KY_deaths, Feb_mean_deaths)\n",
        "p_death = 2 * stats.t.sf(abs(t_death), df)\n",
        "\n",
        "print(\"p-value for #cases is: \", p_case)\n",
        "print(\"p-value for deaths is: \", p_death)"
      ]
    },
    {
      "cell_type": "markdown",
      "id": "6893356d",
      "metadata": {
        "id": "6893356d"
      },
      "source": [
        "##### Conclusion:\n",
        "The p-values from three one-sample tests are all smaller than 0.05, so we're able to reject the null hypethesis. Therefore, we can conclude that there is significant difference in #cases and deaths between Feb'21 and Mar'21 in state KY."
      ]
    },
    {
      "cell_type": "markdown",
      "id": "a98c3dae",
      "metadata": {
        "id": "a98c3dae"
      },
      "source": [
        "#### Part 2:\n",
        "    Repeat with the two-sample version of Wald’s and two-sample unpaired t-test "
      ]
    },
    {
      "cell_type": "markdown",
      "id": "0951ce95",
      "metadata": {
        "id": "0951ce95"
      },
      "source": [
        "<h4><center>Maine State</center></h4>"
      ]
    },
    {
      "cell_type": "markdown",
      "id": "bb3904a2",
      "metadata": {
        "id": "bb3904a2"
      },
      "source": [
        "* ##### Wald's test"
      ]
    },
    {
      "cell_type": "code",
      "execution_count": null,
      "id": "1c99c7a7",
      "metadata": {
        "id": "1c99c7a7",
        "outputId": "628bf8b9-f359-447e-fae1-23356d95a26c"
      },
      "outputs": [
        {
          "name": "stdout",
          "output_type": "stream",
          "text": [
            "p-value for #cases is:  8.150897407215005e-23\n",
            "p-value for deaths is:  2.415376728041971e-09\n"
          ]
        }
      ],
      "source": [
        "W_case = Wald_test_2(Feb_ME_cases, Mar_ME_cases)\n",
        "p_case = 2 * stats.norm.sf(abs(W_case))\n",
        "\n",
        "W_death = Wald_test_2(Feb_ME_deaths, Mar_ME_deaths)\n",
        "p_death = 2 * stats.norm.sf(abs(W_death))\n",
        "\n",
        "print(\"p-value for #cases is: \", p_case)\n",
        "print(\"p-value for deaths is: \", p_death)"
      ]
    },
    {
      "cell_type": "markdown",
      "id": "7d36fe93",
      "metadata": {
        "id": "7d36fe93"
      },
      "source": [
        "* ##### t-test"
      ]
    },
    {
      "cell_type": "code",
      "execution_count": null,
      "id": "63742f0d",
      "metadata": {
        "id": "63742f0d",
        "outputId": "ce367e76-6c37-4d37-ea4e-962cc31856fc"
      },
      "outputs": [
        {
          "name": "stdout",
          "output_type": "stream",
          "text": [
            "p-value for #cases is:  0.0554286170650609\n",
            "p-value for deaths is:  0.06287889888015301\n"
          ]
        }
      ],
      "source": [
        "df = len(Feb_ME_cases) + len(Mar_ME_cases) - 2\n",
        "\n",
        "t_case = t_test_2(Feb_ME_cases, Mar_ME_cases)\n",
        "p_case = 2 * stats.t.sf(abs(t_case), df)\n",
        "\n",
        "t_death = t_test_2(Feb_ME_deaths, Mar_ME_deaths)\n",
        "p_death = 2 * stats.t.sf(abs(t_death), df)\n",
        "\n",
        "print(\"p-value for #cases is: \", p_case)\n",
        "print(\"p-value for deaths is: \", p_death)"
      ]
    },
    {
      "cell_type": "markdown",
      "id": "b7a8576f",
      "metadata": {
        "id": "b7a8576f"
      },
      "source": [
        "##### Conclusion:\n",
        "In Wald's test, p-values for both #cases and deaths are very small (both are smaller than 0.05), so we're able to reject the null hypothesis for them. However, in t-test, p-values for them are larger than we obtained in Wald's test. Both of them are greater than 0.05, so we cannot reject the null hypothesis. Therefore, we can conclude that therea're significant difference in #cases and deaths between Feb'21 and Mar'21 in state ME."
      ]
    },
    {
      "cell_type": "markdown",
      "id": "85486122",
      "metadata": {
        "id": "85486122"
      },
      "source": [
        "<h4><center>Kentucky State</center></h4>"
      ]
    },
    {
      "cell_type": "markdown",
      "id": "95563693",
      "metadata": {
        "id": "95563693"
      },
      "source": [
        "* ##### Wald's test"
      ]
    },
    {
      "cell_type": "code",
      "execution_count": null,
      "id": "f801b186",
      "metadata": {
        "id": "f801b186",
        "outputId": "c3bebe1e-9d7d-4dd3-e4c0-aaec54dddade"
      },
      "outputs": [
        {
          "name": "stdout",
          "output_type": "stream",
          "text": [
            "p-value for #cases is:  0.0\n",
            "p-value for deaths is:  1.2307580015011096e-42\n"
          ]
        }
      ],
      "source": [
        "W_case = Wald_test_2(Feb_KY_cases, Mar_KY_cases)\n",
        "p_case = 2 * stats.norm.sf(abs(W_case))\n",
        "\n",
        "W_death = Wald_test_2(Feb_KY_deaths, Mar_KY_deaths)\n",
        "p_death = 2 * stats.norm.sf(abs(W_death))\n",
        "\n",
        "print(\"p-value for #cases is: \", p_case)\n",
        "print(\"p-value for deaths is: \", p_death)"
      ]
    },
    {
      "cell_type": "markdown",
      "id": "a9ea25d7",
      "metadata": {
        "id": "a9ea25d7"
      },
      "source": [
        "* ##### t-test"
      ]
    },
    {
      "cell_type": "code",
      "execution_count": null,
      "id": "64d2ca53",
      "metadata": {
        "id": "64d2ca53",
        "outputId": "6124c3f6-22b8-438a-904c-5dd624c64230"
      },
      "outputs": [
        {
          "name": "stdout",
          "output_type": "stream",
          "text": [
            "p-value for #cases is:  5.683681248038381e-10\n",
            "p-value for deaths is:  2.085950070933702e-14\n"
          ]
        }
      ],
      "source": [
        "df = len(Feb_KY_cases) + len(Mar_KY_cases) - 2\n",
        "\n",
        "t_case = t_test_2(Feb_KY_cases, Mar_KY_cases)\n",
        "p_case = 2 * stats.t.sf(abs(t_case), df)\n",
        "\n",
        "t_death = t_test_2(Feb_KY_deaths, Mar_KY_deaths)\n",
        "p_death = 2 * stats.t.sf(abs(t_death), df)\n",
        "\n",
        "print(\"p-value for #cases is: \", p_case)\n",
        "print(\"p-value for deaths is: \", p_death)"
      ]
    },
    {
      "cell_type": "markdown",
      "id": "c1e12510",
      "metadata": {
        "id": "c1e12510"
      },
      "source": [
        "##### Conclusion:\n",
        "In Wald's test, p-values for both #cases and deaths are very small (both are smaller than 0.05), so we're able to reject the null hypothesis for them. However, in t-test, p-values for them are larger than we obtained in Wald's test, but the results remain the same. For both of them, p-values are smaller than 0.05, so we can also reject the null hypothesis. Therefore, we can conclude that there is significant difference in #cases and deaths between Feb'21 and Mar'21 in state KY."
      ]
    },
    {
      "cell_type": "markdown",
      "id": "a8078d78",
      "metadata": {
        "id": "a8078d78"
      },
      "source": [
        "### b. Inference the equality of distributions between the two states (distribution of daily #cases and daily #deaths) for the last three months of 2021 (Oct, Nov, Dec) of your dataset using K-S test and Permutation test."
      ]
    },
    {
      "cell_type": "code",
      "execution_count": null,
      "id": "0bbd4346",
      "metadata": {
        "id": "0bbd4346"
      },
      "outputs": [],
      "source": [
        "ME_data = original_cases_data_ME.copy()\n",
        "ME_data = ME_data[ME_data[\"submission_date\"].dt.year == 2021]\n",
        "ME_data[\"submission_date\"] = ME_data[\"submission_date\"].dt.month\n",
        "\n",
        "KY_data = original_cases_data_KY.copy()\n",
        "KY_data = KY_data[KY_data[\"submission_date\"].dt.year == 2021]\n",
        "KY_data[\"submission_date\"] = KY_data[\"submission_date\"].dt.month"
      ]
    },
    {
      "cell_type": "code",
      "execution_count": null,
      "id": "ba494220",
      "metadata": {
        "id": "ba494220"
      },
      "outputs": [],
      "source": [
        "ME_cases = ME_data[(ME_data[\"submission_date\"] == 10) | (ME_data[\"submission_date\"] == 11) | (ME_data[\"submission_date\"] == 12)][\"new_case\"]\n",
        "ME_deaths = ME_data[(ME_data[\"submission_date\"] == 10) | (ME_data[\"submission_date\"] == 11) | (ME_data[\"submission_date\"] == 12)][\"new_death\"]\n",
        "\n",
        "KY_cases = KY_data[(KY_data[\"submission_date\"] == 10) | (KY_data[\"submission_date\"] == 11) | (KY_data[\"submission_date\"] == 12)][\"new_case\"]\n",
        "KY_deaths = KY_data[(KY_data[\"submission_date\"] == 10) | (KY_data[\"submission_date\"] == 11) | (KY_data[\"submission_date\"] == 12)][\"new_death\"]"
      ]
    },
    {
      "cell_type": "markdown",
      "id": "c8febb2a",
      "metadata": {
        "id": "c8febb2a"
      },
      "source": [
        "#### Helper Functions"
      ]
    },
    {
      "cell_type": "code",
      "execution_count": null,
      "id": "fb19ef0f",
      "metadata": {
        "id": "fb19ef0f"
      },
      "outputs": [],
      "source": [
        "def dpois(x, l):\n",
        "    log_p = np.log(l) * x - loggamma(x+1) - l\n",
        "    p = np.exp(log_p)\n",
        "    return p\n",
        "\n",
        "def ppois(x, l):\n",
        "    p = 0\n",
        "    for i in range(0, x+1):\n",
        "        p += dpois(i, l)\n",
        "    return p"
      ]
    },
    {
      "cell_type": "code",
      "execution_count": null,
      "id": "e39d0c6d",
      "metadata": {
        "id": "e39d0c6d"
      },
      "outputs": [],
      "source": [
        "def dgeom(x, prob):\n",
        "    p = np.power(1-prob, x) * prob\n",
        "    return p\n",
        "\n",
        "def pgeom(x, prob):\n",
        "    p = 0\n",
        "    for i in range(0, x+1):\n",
        "        p += dgeom(i, prob)\n",
        "    return p"
      ]
    },
    {
      "cell_type": "code",
      "execution_count": null,
      "id": "864943d7",
      "metadata": {
        "id": "864943d7"
      },
      "outputs": [],
      "source": [
        "def dbinom(x, n, prob):\n",
        "    log_p = loggamma(n+1) - loggamma(x+1) - loggamma(n-x+1) + x * np.log(prob) + (n-x) * np.log(1-prob)\n",
        "    p = np.exp(log_p)\n",
        "    return p\n",
        "\n",
        "def pbinom(x, n, prob):\n",
        "    p = 0\n",
        "    for i in range(0, x+1):\n",
        "        p += dbinom(i, n, prob)\n",
        "    return p"
      ]
    },
    {
      "cell_type": "code",
      "execution_count": null,
      "id": "7c026d5e",
      "metadata": {
        "id": "7c026d5e"
      },
      "outputs": [],
      "source": [
        "def empirical_cdf(x):\n",
        "    n = len(x)\n",
        "    x_sort = pd.Series.sort_values(x)\n",
        "    x = pd.Series.drop_duplicates(x_sort)\n",
        "    p = []\n",
        "    for i in x:\n",
        "        prob = sum(x_sort <= i) / n\n",
        "        p.append(prob)\n",
        "    return p"
      ]
    },
    {
      "cell_type": "code",
      "execution_count": null,
      "id": "81b5391d",
      "metadata": {
        "id": "81b5391d"
      },
      "outputs": [],
      "source": [
        "def empirical_cdf_1(x, y):\n",
        "    n = len(x)\n",
        "    x_sort = pd.Series.sort_values(x)\n",
        "    y_sort = pd.Series.sort_values(y)\n",
        "    y = pd.Series.drop_duplicates(y_sort)\n",
        "    p = []\n",
        "    for i in y:\n",
        "        prob = sum(x_sort <= i) / n\n",
        "        p.append(prob)\n",
        "    return p"
      ]
    },
    {
      "cell_type": "code",
      "execution_count": null,
      "id": "eec78ca3",
      "metadata": {
        "id": "eec78ca3"
      },
      "outputs": [],
      "source": [
        "def K_S_test(x, f, p1 = None, p2 = None):\n",
        "    x = pd.Series.drop_duplicates(x)\n",
        "    x = pd.Series.sort_values(x)\n",
        "    \n",
        "    ecdf = empirical_cdf(x)\n",
        "    cdf = []\n",
        "    if p2 == None:\n",
        "        for i in x:\n",
        "            cdf.append(f(i, p1))\n",
        "    else:\n",
        "        for i in x:\n",
        "            cdf.append(f(i, p1, p2))\n",
        "    \n",
        "    ecdf_pos = ecdf\n",
        "    ecdf.pop()\n",
        "    ecdf.insert(0, 0)\n",
        "    ecdf_neg = ecdf\n",
        "    \n",
        "    d1 = list(map(abs, np.subtract(cdf, ecdf_neg)))\n",
        "    d2 = list(map(abs, np.subtract(cdf, ecdf_pos)))\n",
        "    d1.extend(d2)\n",
        "    d = max(d1)\n",
        "    \n",
        "    return d"
      ]
    },
    {
      "cell_type": "code",
      "execution_count": null,
      "id": "19e2b074",
      "metadata": {
        "id": "19e2b074"
      },
      "outputs": [],
      "source": [
        "def K_S_test_2(x, y):\n",
        "    x_sort = pd.Series.sort_values(x)\n",
        "    x = pd.Series.drop_duplicates(x_sort)\n",
        "    \n",
        "    ecdf_x = empirical_cdf(x)\n",
        "    ecdf_pos_x = ecdf_x\n",
        "    ecdf_x.pop()\n",
        "    ecdf_x.insert(0, 0)\n",
        "    ecdf_neg_x = ecdf_x\n",
        "    \n",
        "    ecdf_y = empirical_cdf_1(y, x)\n",
        "    ecdf_pos_y = ecdf_y\n",
        "    ecdf_y.pop()\n",
        "    ecdf_y.insert(0, 0)\n",
        "    ecdf_neg_y = ecdf_y\n",
        "    \n",
        "    \n",
        "    d1 = list(map(abs, np.subtract(ecdf_neg_x, ecdf_neg_y)))\n",
        "    d2 = list(map(abs, np.subtract(ecdf_pos_x, ecdf_pos_y)))\n",
        "    d1.extend(d2)\n",
        "    d = max(d1)\n",
        "    \n",
        "    return d"
      ]
    },
    {
      "cell_type": "code",
      "execution_count": null,
      "id": "27321eeb",
      "metadata": {
        "id": "27321eeb"
      },
      "outputs": [],
      "source": [
        "def permutation_test(x, y, n = 100):\n",
        "    k = len(x)\n",
        "    \n",
        "    x = list(x)\n",
        "    y = list(y)\n",
        "    T_obs = abs(mean(x) - mean(y))\n",
        "    \n",
        "    z = x + y\n",
        "    T = []\n",
        "    for i in range(0, n):\n",
        "        rd.shuffle(z)\n",
        "        s = z[:k]\n",
        "        t = z[k:]\n",
        "        T.append(abs(mean(s) - mean(t))) \n",
        "    p = sum(T > T_obs) / n\n",
        "    \n",
        "    return p"
      ]
    },
    {
      "cell_type": "markdown",
      "id": "071d71ee",
      "metadata": {
        "id": "071d71ee"
      },
      "source": [
        "#### Part 1\n",
        "    1-sample test, try Poisson, Geometric, and Binomial."
      ]
    },
    {
      "cell_type": "markdown",
      "id": "40ca907e",
      "metadata": {
        "id": "40ca907e"
      },
      "source": [
        "<h4><center>Maine State</center></h4>"
      ]
    },
    {
      "cell_type": "markdown",
      "id": "9613337f",
      "metadata": {
        "id": "9613337f"
      },
      "source": [
        "* ##### Poisson"
      ]
    },
    {
      "cell_type": "code",
      "execution_count": null,
      "id": "6a0fb84c",
      "metadata": {
        "id": "6a0fb84c",
        "outputId": "e1755ca2-b140-4fd1-fa11-e7387050853a"
      },
      "outputs": [
        {
          "name": "stdout",
          "output_type": "stream",
          "text": [
            "The K-S test statistics for #cases is:  0.9891304347826086\n",
            "The K-S test statistics for deaths is:  0.6222816414424707\n"
          ]
        }
      ],
      "source": [
        "l_cases = mean(KY_cases)\n",
        "l_deaths = mean(KY_deaths)\n",
        "\n",
        "d_cases = K_S_test(ME_cases, ppois, l_cases)\n",
        "d_deaths = K_S_test(ME_deaths, ppois, l_deaths)\n",
        "\n",
        "print(\"The K-S test statistics for #cases is: \", d_cases)\n",
        "print(\"The K-S test statistics for deaths is: \", d_deaths)"
      ]
    },
    {
      "cell_type": "markdown",
      "id": "a7b92701",
      "metadata": {
        "id": "a7b92701"
      },
      "source": [
        "* ##### Geometric"
      ]
    },
    {
      "cell_type": "code",
      "execution_count": null,
      "id": "f9e75cd0",
      "metadata": {
        "id": "f9e75cd0",
        "outputId": "3f12fa42-b2ec-4a29-ec3b-89e0c0428b48"
      },
      "outputs": [
        {
          "name": "stdout",
          "output_type": "stream",
          "text": [
            "The K-S test statistics for #cases is:  0.49352761072665247\n",
            "The K-S test statistics for deaths is:  0.28319427662454166\n"
          ]
        }
      ],
      "source": [
        "p_cases = 1 / (1 + mean(KY_cases))\n",
        "p_deaths = 1 / (1 + mean(KY_deaths))\n",
        "\n",
        "d_cases = K_S_test(ME_cases, pgeom, p_cases)\n",
        "d_deaths = K_S_test(ME_deaths, pgeom, p_deaths)\n",
        "\n",
        "print(\"The K-S test statistics for #cases is: \", d_cases)\n",
        "print(\"The K-S test statistics for deaths is: \", d_deaths)"
      ]
    },
    {
      "cell_type": "markdown",
      "id": "1c273f3c",
      "metadata": {
        "id": "1c273f3c"
      },
      "source": [
        "* ##### Binomial"
      ]
    },
    {
      "cell_type": "code",
      "execution_count": null,
      "id": "8a227f17",
      "metadata": {
        "id": "8a227f17",
        "outputId": "8f0162a3-a0b9-4a39-838d-dda030ebb64e"
      },
      "outputs": [
        {
          "name": "stdout",
          "output_type": "stream",
          "text": [
            "The values of MME is:  -2.3164326322989957 -830.5358886579016\n"
          ]
        }
      ],
      "source": [
        "n_cases = np.square(mean(KY_cases)) / (mean(KY_cases) - np.square(sd(KY_cases)))\n",
        "p_cases = mean(KY_cases) / n_cases\n",
        "print(\"The values of MME is: \", n_cases, p_cases)"
      ]
    },
    {
      "cell_type": "markdown",
      "id": "2f1a61a3",
      "metadata": {
        "id": "2f1a61a3"
      },
      "source": [
        "<h4><center>Kentucky State</center></h4>"
      ]
    },
    {
      "cell_type": "markdown",
      "id": "6ddda106",
      "metadata": {
        "id": "6ddda106"
      },
      "source": [
        "* ##### Poisson"
      ]
    },
    {
      "cell_type": "code",
      "execution_count": null,
      "id": "747afa93",
      "metadata": {
        "id": "747afa93",
        "outputId": "5fd8cfda-1a8d-4165-968f-12b5d1bec477"
      },
      "outputs": [
        {
          "name": "stdout",
          "output_type": "stream",
          "text": [
            "The K-S test statistics for #cases is:  0.9205299896393511\n",
            "The K-S test statistics for deaths is:  0.9362244016772192\n"
          ]
        }
      ],
      "source": [
        "l_cases = mean(ME_cases)\n",
        "l_deaths = mean(ME_deaths)\n",
        "\n",
        "d_cases = K_S_test(KY_cases, ppois, l_cases)\n",
        "d_deaths = K_S_test(KY_deaths, ppois, l_deaths)\n",
        "\n",
        "print(\"The K-S test statistics for #cases is: \", d_cases)\n",
        "print(\"The K-S test statistics for deaths is: \", d_deaths)"
      ]
    },
    {
      "cell_type": "markdown",
      "id": "bb9db15b",
      "metadata": {
        "id": "bb9db15b"
      },
      "source": [
        "* ##### Geometric"
      ]
    },
    {
      "cell_type": "code",
      "execution_count": null,
      "id": "579e0ee9",
      "metadata": {
        "id": "579e0ee9",
        "outputId": "9079e4a3-6253-4f8c-dcde-a022eb2ed451"
      },
      "outputs": [
        {
          "name": "stdout",
          "output_type": "stream",
          "text": [
            "The K-S test statistics for #cases is:  0.6100887263327393\n",
            "The K-S test statistics for deaths is:  0.8121693700070038\n"
          ]
        }
      ],
      "source": [
        "p_cases = 1 / (1 + mean(ME_cases))\n",
        "p_deaths = 1 / (1 + mean(ME_deaths))\n",
        "\n",
        "d_cases = K_S_test(KY_cases, pgeom, p_cases)\n",
        "d_deaths = K_S_test(KY_deaths, pgeom, p_deaths)\n",
        "\n",
        "print(\"The K-S test statistics for #cases is: \", d_cases)\n",
        "print(\"The K-S test statistics for deaths is: \", d_deaths)"
      ]
    },
    {
      "cell_type": "markdown",
      "id": "f25846d9",
      "metadata": {
        "id": "f25846d9"
      },
      "source": [
        "* ##### Binomial"
      ]
    },
    {
      "cell_type": "code",
      "execution_count": null,
      "id": "6f1476db",
      "metadata": {
        "id": "6f1476db",
        "outputId": "87139123-6d6c-4d40-b0e5-68214432f071"
      },
      "outputs": [
        {
          "name": "stdout",
          "output_type": "stream",
          "text": [
            "The values of MME is:  -4.490745239131433 -150.85856694809493\n"
          ]
        }
      ],
      "source": [
        "n_cases = np.square(mean(ME_cases)) / (mean(ME_cases) - np.square(sd(ME_cases)))\n",
        "p_cases = mean(ME_cases) / n_cases\n",
        "print(\"The values of MME is: \", n_cases, p_cases)"
      ]
    },
    {
      "cell_type": "markdown",
      "id": "550395f8",
      "metadata": {
        "id": "550395f8"
      },
      "source": [
        "##### Conclusion:\n",
        "The threshold is 0.05 for K-S test. All K-S test statistics we obtained are greater than 0.05, so we're able to reject the null hypothesis. Therefore, the distributions of #cases and deaths between two states are different. For binomial distribution, the MME we obtained is negative, it implies that the data doesn't follow the binomial distribution."
      ]
    },
    {
      "cell_type": "markdown",
      "id": "236981c5",
      "metadata": {
        "id": "236981c5"
      },
      "source": [
        "#### Part 2\n",
        "    2-sample test"
      ]
    },
    {
      "cell_type": "code",
      "execution_count": null,
      "id": "a53273f5",
      "metadata": {
        "id": "a53273f5",
        "outputId": "c0e5976e-683a-4fb8-9ab8-3a0ecfc0bfc1"
      },
      "outputs": [
        {
          "name": "stdout",
          "output_type": "stream",
          "text": [
            "The 2-sample K-S test statistics for #cases is:  0.6739130434782608\n",
            "The 2-sample K-S test statistics for deaths is:  0.5108695652173914\n"
          ]
        }
      ],
      "source": [
        "d_cases = K_S_test_2(ME_cases, KY_cases)\n",
        "d_deaths = K_S_test_2(ME_deaths, KY_deaths)\n",
        "\n",
        "print(\"The 2-sample K-S test statistics for #cases is: \", d_cases)\n",
        "print(\"The 2-sample K-S test statistics for deaths is: \", d_deaths)"
      ]
    },
    {
      "cell_type": "markdown",
      "id": "d61bde70",
      "metadata": {
        "id": "d61bde70"
      },
      "source": [
        "##### Conclusion:\n",
        "The threshold is 0.05 for K-S test. All K-S test statistics we obtained are greater than 0.05, so we're able to reject the null hypothesis. Therefore, the distributions of #cases and deaths between two states are different."
      ]
    },
    {
      "cell_type": "markdown",
      "id": "82c32ded",
      "metadata": {
        "id": "82c32ded"
      },
      "source": [
        "#### Part 3\n",
        "    permutation test"
      ]
    },
    {
      "cell_type": "code",
      "execution_count": null,
      "id": "d45b752c",
      "metadata": {
        "id": "d45b752c",
        "outputId": "0e4ad8c3-a258-4b59-af0b-dfc1f08c2c4b"
      },
      "outputs": [
        {
          "name": "stdout",
          "output_type": "stream",
          "text": [
            "The p-value of the permutation for #cases is:  0.0\n",
            "The p-value of the permutation for deaths is:  0.0\n"
          ]
        }
      ],
      "source": [
        "p_cases = permutation_test(ME_cases, KY_cases, n = 1000)\n",
        "p_deaths = permutation_test(ME_deaths, KY_deaths, n = 1000)\n",
        "\n",
        "print(\"The p-value of the permutation for #cases is: \", p_cases)\n",
        "print(\"The p-value of the permutation for deaths is: \", p_deaths)"
      ]
    },
    {
      "cell_type": "markdown",
      "id": "827c27d1",
      "metadata": {
        "id": "827c27d1"
      },
      "source": [
        "##### Conclusion:\n",
        "The threshold is 0.05 for permutation test. The p-values we obtained are smaller than 0.05 (actually 0), so we're able to reject the null hypothesis. Therefore, the distributions of #cases and deaths between two states are different."
      ]
    },
    {
      "cell_type": "markdown",
      "id": "49b6847b",
      "metadata": {
        "id": "49b6847b"
      },
      "source": [
        "### c. Bayesian inference on daily stats"
      ]
    },
    {
      "cell_type": "markdown",
      "id": "8d786c00",
      "metadata": {
        "id": "8d786c00"
      },
      "source": [
        "#### Helper Functions"
      ]
    },
    {
      "cell_type": "code",
      "execution_count": 73,
      "id": "6d1e7f30",
      "metadata": {
        "id": "6d1e7f30"
      },
      "outputs": [],
      "source": [
        "def my_sample_mean(array):\n",
        "    # Mean\n",
        "    return sum(array) / len(array)\n",
        "\n",
        "def my_exponential_pdf(array, para_lambda):\n",
        "    # PDF for exponential distribution\n",
        "    array = np.array(array)\n",
        "    log_likelihood = np.log(para_lambda) - para_lambda * array\n",
        "    return np.exp(log_likelihood)\n",
        "\n",
        "def my_poisson_pmf(array, para_lambda):\n",
        "    # PMF for poisson distribution\n",
        "    array = np.array(array)\n",
        "    log_likelihood = np.log(para_lambda) * array - loggamma(array + 1) - para_lambda\n",
        "    return np.exp(log_likelihood)\n",
        "\n",
        "def caclulate_posterior_from_data(start_date, end_date):\n",
        "    data = case_data_combined.loc[(case_data_combined['submission_date'] >= start_date) & \n",
        "                        (case_data_combined['submission_date'] < end_date)]\n",
        "\n",
        "    # Calculate posterior\n",
        "    posterior_cases = My_Posterior()\n",
        "    posterior_cases.get_posterior(data['new_case'], beta_cases)\n",
        "\n",
        "    posterior_death = My_Posterior()\n",
        "    posterior_death.get_posterior(data['new_death'], beta_death)\n",
        "\n",
        "    return posterior_cases, posterior_death\n",
        "\n",
        "class My_Posterior:\n",
        "    def __init__(self):\n",
        "        self.prior = my_exponential_pdf\n",
        "        self.dist = my_poisson_pmf\n",
        "        self.data = None\n",
        "        self.beta = None\n",
        "\n",
        "    def get_posterior(self, data, beta):\n",
        "        self.data = data\n",
        "        self.beta = beta\n",
        "    \n",
        "    def posterior_pdf(self, lambda_points):\n",
        "        posterior_list = []\n",
        "        for lamb in lambda_points:\n",
        "            prior = self.prior(lamb, 1/self.beta)\n",
        "            log_likelihood = np.sum(np.log(self.dist(self.data, lamb)))\n",
        "            posterior = np.log(prior) + log_likelihood\n",
        "            posterior_list.append(posterior)\n",
        "        return posterior_list"
      ]
    },
    {
      "cell_type": "markdown",
      "id": "dff19154",
      "metadata": {
        "id": "dff19154"
      },
      "source": [
        "#### Sum up data from two states"
      ]
    },
    {
      "cell_type": "code",
      "execution_count": 74,
      "id": "qNukwVaXCrt5",
      "metadata": {
        "id": "qNukwVaXCrt5"
      },
      "outputs": [],
      "source": [
        "# Sum up the cases data\n",
        "case_data_combined = cases_data_ME.merge(cases_data_KY, on='submission_date', how='outer', sort=True).fillna(0)\n",
        "case_data_combined.loc[:, ['new_case']] = case_data_combined['new_case_x'] + case_data_combined['new_case_y']\n",
        "case_data_combined.loc[:, ['new_death']] = case_data_combined['new_death_x'] + case_data_combined['new_death_y']\n",
        "\n",
        "# Discard extra columns\n",
        "case_data_combined.drop(columns=['new_case_x', 'new_case_y', 'new_death_x', 'new_death_y'], inplace=True)"
      ]
    },
    {
      "cell_type": "code",
      "execution_count": 75,
      "id": "DhcWCw_HKfzp",
      "metadata": {
        "id": "DhcWCw_HKfzp"
      },
      "outputs": [],
      "source": [
        "# Discard data before June 1st 2020 which is the day 1 we assume\n",
        "start_date = pd.to_datetime('2020-06-01')\n",
        "case_data_combined = case_data_combined.loc[case_data_combined['submission_date'] >= start_date].reset_index()"
      ]
    },
    {
      "cell_type": "markdown",
      "id": "Aitvb8CIykQA",
      "metadata": {
        "id": "Aitvb8CIykQA"
      },
      "source": [
        "#### Calculate MME"
      ]
    },
    {
      "cell_type": "code",
      "execution_count": 76,
      "id": "8h5sRVS6PlqE",
      "metadata": {
        "id": "8h5sRVS6PlqE"
      },
      "outputs": [],
      "source": [
        "# Get first 28 days to calculate MME\n",
        "end_date = start_date + pd.DateOffset(weeks=4)\n",
        "first_28_days = case_data_combined.loc[(case_data_combined['submission_date'] >= start_date) & \n",
        "                        (case_data_combined['submission_date'] < end_date)]\n",
        "\n",
        "# Calculate MME\n",
        "beta_cases = my_sample_mean(first_28_days['new_case'])\n",
        "beta_death = my_sample_mean(first_28_days['new_death'])"
      ]
    },
    {
      "cell_type": "markdown",
      "id": "qUqpTkOnytfg",
      "metadata": {
        "id": "qUqpTkOnytfg"
      },
      "source": [
        "#### Calculate Posterior"
      ]
    },
    {
      "cell_type": "code",
      "execution_count": 77,
      "id": "f3iP-eKhP-k5",
      "metadata": {
        "id": "f3iP-eKhP-k5"
      },
      "outputs": [],
      "source": [
        "# Obtain data from fifth week\n",
        "fifth_week_start_date = end_date\n",
        "fifth_week_end_date = fifth_week_start_date + pd.DateOffset(weeks=1)\n",
        "\n",
        "fifth_week_cases_posterior, fifth_week_death_posterior = caclulate_posterior_from_data(fifth_week_start_date, fifth_week_end_date)\n",
        "\n",
        "# Obtain data from fifth week to sixth week\n",
        "sixth_week_end_date = fifth_week_start_date + pd.DateOffset(weeks=2)\n",
        "\n",
        "sixth_week_cases_posterior, sixth_week_death_posterior = caclulate_posterior_from_data(fifth_week_start_date, sixth_week_end_date)\n",
        "\n",
        "# Obtain data from fifth week to seventh week\n",
        "seventh_week_end_date = fifth_week_start_date + pd.DateOffset(weeks=3)\n",
        "\n",
        "seventh_week_cases_posterior, seventh_week_death_posterior = caclulate_posterior_from_data(fifth_week_start_date, seventh_week_end_date)\n",
        "\n",
        "# Obtain data from fifth week to eighth week\n",
        "eighth_week_end_date = fifth_week_start_date + pd.DateOffset(weeks=4)\n",
        "\n",
        "eighth_week_cases_posterior, eighth_week_death_posterior = caclulate_posterior_from_data(fifth_week_start_date, eighth_week_end_date)"
      ]
    },
    {
      "cell_type": "markdown",
      "id": "oUS4Eqf7B2Qv",
      "metadata": {
        "id": "oUS4Eqf7B2Qv"
      },
      "source": [
        "#### Result"
      ]
    },
    {
      "cell_type": "code",
      "execution_count": 78,
      "id": "aDAl6lcHk83m",
      "metadata": {
        "colab": {
          "base_uri": "https://localhost:8080/",
          "height": 295
        },
        "id": "aDAl6lcHk83m",
        "outputId": "b7958ed7-c271-4cc7-bedd-8166fcb18748"
      },
      "outputs": [
        {
          "output_type": "display_data",
          "data": {
            "text/plain": [
              "<Figure size 432x288 with 1 Axes>"
            ],
            "image/png": "[encoded data removed]"
          },
          "metadata": {
            "needs_background": "light"
          }
        }
      ],
      "source": [
        "step = 0.1\n",
        "lower = 250\n",
        "upper = 700\n",
        "x_points = np.arange(lower, upper + step, step)\n",
        "\n",
        "fifth_pdf = fifth_week_cases_posterior.posterior_pdf(x_points)\n",
        "sixth_pdf = sixth_week_cases_posterior.posterior_pdf(x_points)\n",
        "seventh_pdf = seventh_week_cases_posterior.posterior_pdf(x_points)\n",
        "eighth_pdf = eighth_week_cases_posterior.posterior_pdf(x_points)\n",
        "\n",
        "plt.title('Log of cases posterior distributions')\n",
        "plt.xlabel('Lambda')\n",
        "plt.plot(x_points, fifth_pdf/abs(sum(fifth_pdf)), label='Posterior after fifth week')\n",
        "plt.plot(x_points, sixth_pdf/abs(sum(sixth_pdf)), label='Posterior after sixth week')\n",
        "plt.plot(x_points, seventh_pdf/abs(sum(seventh_pdf)), label='Posterior after seventh week')\n",
        "plt.plot(x_points, eighth_pdf/abs(sum(eighth_pdf)), label='Posterior after eighth week')\n",
        "plt.legend(loc='lower left')\n",
        "plt.show()"
      ]
    },
    {
      "cell_type": "code",
      "execution_count": 79,
      "id": "1PiqAXBL6I8i",
      "metadata": {
        "colab": {
          "base_uri": "https://localhost:8080/"
        },
        "id": "1PiqAXBL6I8i",
        "outputId": "97bf6ef5-edaa-4701-ad0d-a58e05d30359"
      },
      "outputs": [
        {
          "output_type": "stream",
          "name": "stdout",
          "text": [
            "MAP of fifth week posterior: 332.70\n",
            "MAP of sixth week posterior: 421.10\n",
            "MAP of seventh week posterior: 492.90\n",
            "MAP of eighth week posterior: 537.30\n"
          ]
        }
      ],
      "source": [
        "print(f'MAP of fifth week posterior: {x_points[np.argmax(fifth_pdf)]:.2f}')\n",
        "print(f'MAP of sixth week posterior: {x_points[np.argmax(sixth_pdf)]:.2f}')\n",
        "print(f'MAP of seventh week posterior: {x_points[np.argmax(seventh_pdf)]:.2f}')\n",
        "print(f'MAP of eighth week posterior: {x_points[np.argmax(eighth_pdf)]:.2f}')"
      ]
    },
    {
      "cell_type": "code",
      "execution_count": 80,
      "id": "0Zx6_AZd8bsL",
      "metadata": {
        "colab": {
          "base_uri": "https://localhost:8080/",
          "height": 295
        },
        "id": "0Zx6_AZd8bsL",
        "outputId": "3fe5e4ea-91e4-4882-ef61-187d13c50be1"
      },
      "outputs": [
        {
          "output_type": "display_data",
          "data": {
            "text/plain": [
              "<Figure size 432x288 with 1 Axes>"
            ],
            "image/png": "[encoded data removed]"
          },
          "metadata": {
            "needs_background": "light"
          }
        }
      ],
      "source": [
        "step = 0.01\n",
        "lower = 1\n",
        "upper = 15\n",
        "x_points = np.arange(lower, upper + step, step)\n",
        "\n",
        "fifth_pdf = fifth_week_death_posterior.posterior_pdf(x_points)\n",
        "sixth_pdf = sixth_week_death_posterior.posterior_pdf(x_points)\n",
        "seventh_pdf = seventh_week_death_posterior.posterior_pdf(x_points)\n",
        "eighth_pdf = eighth_week_death_posterior.posterior_pdf(x_points)\n",
        "\n",
        "plt.title('Log of death posterior distributions')\n",
        "plt.xlabel('Lambda')\n",
        "plt.plot(x_points, fifth_pdf/abs(sum(fifth_pdf)), label='Posterior after fifth week')\n",
        "plt.plot(x_points, sixth_pdf/abs(sum(sixth_pdf)), label='Posterior after sixth week')\n",
        "plt.plot(x_points, seventh_pdf/abs(sum(seventh_pdf)), label='Posterior after seventh week')\n",
        "plt.plot(x_points, eighth_pdf/abs(sum(eighth_pdf)), label='Posterior after eighth week')\n",
        "plt.legend(loc='lower right')\n",
        "plt.show()"
      ]
    },
    {
      "cell_type": "code",
      "execution_count": 81,
      "id": "Bn79XQmUkyod",
      "metadata": {
        "colab": {
          "base_uri": "https://localhost:8080/"
        },
        "id": "Bn79XQmUkyod",
        "outputId": "ece83f58-d456-420b-855d-3d9895546cd6"
      },
      "outputs": [
        {
          "output_type": "stream",
          "name": "stdout",
          "text": [
            "MAP of fifth week posterior: 6.15\n",
            "MAP of sixth week posterior: 6.85\n",
            "MAP of seventh week posterior: 6.85\n",
            "MAP of eighth week posterior: 7.17\n"
          ]
        }
      ],
      "source": [
        "print(f'MAP of fifth week posterior: {x_points[np.argmax(fifth_pdf)]:.2f}')\n",
        "print(f'MAP of sixth week posterior: {x_points[np.argmax(sixth_pdf)]:.2f}')\n",
        "print(f'MAP of seventh week posterior: {x_points[np.argmax(seventh_pdf)]:.2f}')\n",
        "print(f'MAP of eighth week posterior: {x_points[np.argmax(eighth_pdf)]:.2f}')"
      ]
    },
    {
      "cell_type": "markdown",
      "id": "089ac3db",
      "metadata": {
        "id": "089ac3db"
      },
      "source": [
        "### d. Predict #vaccines administered for the fourth week in May 2021 using data from the first three weeks of May 2021."
      ]
    },
    {
      "cell_type": "markdown",
      "id": "Q-rZYtLzsXto",
      "metadata": {
        "id": "Q-rZYtLzsXto"
      },
      "source": [
        "#### Helper Functions"
      ]
    },
    {
      "cell_type": "code",
      "execution_count": 63,
      "id": "v8QHyELfdFEZ",
      "metadata": {
        "id": "v8QHyELfdFEZ"
      },
      "outputs": [],
      "source": [
        "def generate_dataset(data, ar_num):\n",
        "    # Generate dataset for AR\n",
        "    if ar_num > len(data):\n",
        "        raise ValueError('ar_num cannnot be greater than the length of data')\n",
        "\n",
        "    data = np.array(data)\n",
        "    X = []\n",
        "    y = []\n",
        "    for i in reversed(range(ar_num, len(data))):\n",
        "        # Get X index\n",
        "        ind = np.full(ar_num, i)\n",
        "        ind = ind - range(0, ar_num) - 1\n",
        "        X.append(data[ind])\n",
        "\n",
        "        y.append(data[i])\n",
        "    \n",
        "    return np.array(X), np.array(y)\n",
        "\n",
        "def my_MLR(X, y):\n",
        "    X = np.concatenate((X, np.ones((len(X), 1))), axis=1)\n",
        "    return np.matmul(np.linalg.inv(np.matmul(X.T, X)), np.matmul(X.T, y))\n",
        "\n",
        "def AR(data, labels, ar_num):\n",
        "    end_date = data.iloc[0]['Date'] + pd.DateOffset(weeks=3)\n",
        "    pred_list = []\n",
        "    for i in range(len(labels)):\n",
        "        train_data = data.loc[(data['Date'] < end_date)]\n",
        "\n",
        "        # Generate dataset\n",
        "        X, y = generate_dataset(train_data['Administered'], ar_num)\n",
        "        beta = my_MLR(X, y)\n",
        "\n",
        "        # Get data for prediction\n",
        "        pred_data = train_data.iloc[-ar_num:]['Administered']\n",
        "        pred_data = np.append(pred_data, 1)\n",
        "\n",
        "        pred = sum(beta * pred_data)\n",
        "\n",
        "        pred_list.append(pred)\n",
        "\n",
        "        end_date = end_date + pd.DateOffset(days=1)\n",
        "    \n",
        "    return pred_list\n",
        "\n",
        "def my_MAPE(pred, labels):\n",
        "    pred = np.array(pred)\n",
        "    labels = np.array(labels)\n",
        "    return (sum(abs((labels - pred) / labels)) * 100) / len(labels)\n",
        "\n",
        "def my_MSE(pred, labels):\n",
        "    pred = np.array(pred)\n",
        "    labels = np.array(labels)\n",
        "    return sum((labels - pred) ** 2) / len(labels)\n",
        "\n",
        "def EWMA(data, labels, alpha):\n",
        "    # Get trainning dataset\n",
        "    train_data = np.array(data['Administered'])\n",
        "    # Set starting condition\n",
        "    pred = train_data[0]\n",
        "    pred_list = []\n",
        "    for i in range(2, len(train_data)):\n",
        "        pred = alpha * train_data[i-1] + (1 - alpha) * pred\n",
        "        pred_list.append(pred)\n",
        "    # Only need the fourth week prediction\n",
        "    return pred_list[-len(labels):]"
      ]
    },
    {
      "cell_type": "markdown",
      "id": "B3Tq-Vs_sc2g",
      "metadata": {
        "id": "B3Tq-Vs_sc2g"
      },
      "source": [
        "#### Get Data"
      ]
    },
    {
      "cell_type": "code",
      "execution_count": 64,
      "id": "O2ZQeR_CbPp6",
      "metadata": {
        "id": "O2ZQeR_CbPp6"
      },
      "outputs": [],
      "source": [
        "# Get first four weeks for dataset\n",
        "start_date = pd.to_datetime('2021-05-01')\n",
        "end_date = start_date + pd.DateOffset(weeks=4)\n",
        "first_four_weeks_ME = vaccinations_data_ME.loc[(vaccinations_data_ME['Date'] >= start_date) &\n",
        "                            (vaccinations_data_ME['Date'] < end_date)]\n",
        "first_four_weeks_KY = vaccinations_data_KY.loc[(vaccinations_data_KY['Date'] >= start_date) &\n",
        "                            (vaccinations_data_KY['Date'] < end_date)]\n",
        "\n",
        "# Get fourth week for ground truth\n",
        "start_date = start_date + pd.DateOffset(weeks=3)\n",
        "ground_truth_ME = vaccinations_data_ME.loc[(vaccinations_data_ME['Date'] >= start_date) &\n",
        "                            (vaccinations_data_ME['Date'] < end_date)]['Administered']\n",
        "ground_truth_KY = vaccinations_data_KY.loc[(vaccinations_data_KY['Date'] >= start_date) &\n",
        "                            (vaccinations_data_KY['Date'] < end_date)]['Administered']"
      ]
    },
    {
      "cell_type": "markdown",
      "id": "bZsdrp3AsIbq",
      "metadata": {
        "id": "bZsdrp3AsIbq"
      },
      "source": [
        "#### AR(3)"
      ]
    },
    {
      "cell_type": "code",
      "execution_count": 65,
      "id": "5sxhzZsJ4fIX",
      "metadata": {
        "id": "5sxhzZsJ4fIX"
      },
      "outputs": [],
      "source": [
        "pred_list_ME = AR(first_four_weeks_ME, ground_truth_ME, 3)\n",
        "pred_list_KY = AR(first_four_weeks_KY, ground_truth_KY, 3)"
      ]
    },
    {
      "cell_type": "code",
      "execution_count": 66,
      "id": "Td7WzfDr5FBu",
      "metadata": {
        "colab": {
          "base_uri": "https://localhost:8080/"
        },
        "id": "Td7WzfDr5FBu",
        "outputId": "fc5429b1-6147-4d24-dea4-fba2588f5859"
      },
      "outputs": [
        {
          "output_type": "stream",
          "name": "stdout",
          "text": [
            "MAPE for Maine prediction: 289.67%\n",
            "MAPE for Kentucky prediction: 65.84%\n",
            "MSE for Maine prediction: 66057162.20\n",
            "MSE for Maine prediction: 87481232.80\n"
          ]
        }
      ],
      "source": [
        "print(f'MAPE for Maine prediction: {my_MAPE(pred_list_ME, ground_truth_ME):.2f}%')\n",
        "print(f'MAPE for Kentucky prediction: {my_MAPE(pred_list_KY, ground_truth_KY):.2f}%')\n",
        "print(f'MSE for Maine prediction: {my_MSE(pred_list_ME, ground_truth_ME):.2f}')\n",
        "print(f'MSE for Maine prediction: {my_MSE(pred_list_KY, ground_truth_KY):.2f}')"
      ]
    },
    {
      "cell_type": "markdown",
      "id": "9JRHbRDtsMDZ",
      "metadata": {
        "id": "9JRHbRDtsMDZ"
      },
      "source": [
        "#### AR(5)"
      ]
    },
    {
      "cell_type": "code",
      "execution_count": 67,
      "id": "dC1oEhC_sRm1",
      "metadata": {
        "id": "dC1oEhC_sRm1"
      },
      "outputs": [],
      "source": [
        "pred_list_ME = AR(first_four_weeks_ME, ground_truth_ME, 5)\n",
        "pred_list_KY = AR(first_four_weeks_KY, ground_truth_KY, 5)"
      ]
    },
    {
      "cell_type": "code",
      "execution_count": 68,
      "id": "RdDMBwCM9y_d",
      "metadata": {
        "colab": {
          "base_uri": "https://localhost:8080/"
        },
        "id": "RdDMBwCM9y_d",
        "outputId": "2379cf35-573b-4005-8875-802f32ad5e7a"
      },
      "outputs": [
        {
          "output_type": "stream",
          "name": "stdout",
          "text": [
            "MAPE for Maine prediction: 61.33%\n",
            "MAPE for Kentucky prediction: 60.87%\n",
            "MSE for Maine prediction: 5410097.04\n",
            "MSE for Maine prediction: 68522710.74\n"
          ]
        }
      ],
      "source": [
        "print(f'MAPE for Maine prediction: {my_MAPE(pred_list_ME, ground_truth_ME):.2f}%')\n",
        "print(f'MAPE for Kentucky prediction: {my_MAPE(pred_list_KY, ground_truth_KY):.2f}%')\n",
        "print(f'MSE for Maine prediction: {my_MSE(pred_list_ME, ground_truth_ME):.2f}')\n",
        "print(f'MSE for Maine prediction: {my_MSE(pred_list_KY, ground_truth_KY):.2f}')"
      ]
    },
    {
      "cell_type": "markdown",
      "id": "TYLUrpISsR92",
      "metadata": {
        "id": "TYLUrpISsR92"
      },
      "source": [
        "#### EWMA with alpha = 0.5"
      ]
    },
    {
      "cell_type": "code",
      "execution_count": 69,
      "id": "WcvSidRf96lL",
      "metadata": {
        "id": "WcvSidRf96lL"
      },
      "outputs": [],
      "source": [
        "pred_list_ME = EWMA(first_four_weeks_ME, ground_truth_ME, 0.5)\n",
        "pred_list_KY = EWMA(first_four_weeks_KY, ground_truth_KY, 0.5)"
      ]
    },
    {
      "cell_type": "code",
      "execution_count": 70,
      "id": "SOUtV-_5Gvsm",
      "metadata": {
        "colab": {
          "base_uri": "https://localhost:8080/"
        },
        "id": "SOUtV-_5Gvsm",
        "outputId": "d232d379-bf67-479e-8740-75a174e607bb"
      },
      "outputs": [
        {
          "output_type": "stream",
          "name": "stdout",
          "text": [
            "MAPE for Maine prediction: 267.95%\n",
            "MAPE for Kentucky prediction: 58.94%\n",
            "MSE for Maine prediction: 33018646.79\n",
            "MSE for Maine prediction: 58781695.62\n"
          ]
        }
      ],
      "source": [
        "print(f'MAPE for Maine prediction: {my_MAPE(pred_list_ME, ground_truth_ME):.2f}%')\n",
        "print(f'MAPE for Kentucky prediction: {my_MAPE(pred_list_KY, ground_truth_KY):.2f}%')\n",
        "print(f'MSE for Maine prediction: {my_MSE(pred_list_ME, ground_truth_ME):.2f}')\n",
        "print(f'MSE for Maine prediction: {my_MSE(pred_list_KY, ground_truth_KY):.2f}')"
      ]
    },
    {
      "cell_type": "markdown",
      "id": "hZsm25AYsOJc",
      "metadata": {
        "id": "hZsm25AYsOJc"
      },
      "source": [
        "#### EWMA with alpha = 0.8"
      ]
    },
    {
      "cell_type": "code",
      "execution_count": 71,
      "id": "2up4mL6rHE8C",
      "metadata": {
        "id": "2up4mL6rHE8C"
      },
      "outputs": [],
      "source": [
        "pred_list_ME = EWMA(first_four_weeks_ME, ground_truth_ME, 0.8)\n",
        "pred_list_KY = EWMA(first_four_weeks_KY, ground_truth_KY, 0.8)"
      ]
    },
    {
      "cell_type": "code",
      "execution_count": 72,
      "id": "_WPEG1i_HE8H",
      "metadata": {
        "colab": {
          "base_uri": "https://localhost:8080/"
        },
        "id": "_WPEG1i_HE8H",
        "outputId": "fef1201a-248c-4d2b-93a1-e5fc90afd6f6"
      },
      "outputs": [
        {
          "output_type": "stream",
          "name": "stdout",
          "text": [
            "MAPE for Maine prediction: 220.44%\n",
            "MAPE for Kentucky prediction: 55.18%\n",
            "MSE for Maine prediction: 34148660.11\n",
            "MSE for Maine prediction: 58942450.69\n"
          ]
        }
      ],
      "source": [
        "print(f'MAPE for Maine prediction: {my_MAPE(pred_list_ME, ground_truth_ME):.2f}%')\n",
        "print(f'MAPE for Kentucky prediction: {my_MAPE(pred_list_KY, ground_truth_KY):.2f}%')\n",
        "print(f'MSE for Maine prediction: {my_MSE(pred_list_ME, ground_truth_ME):.2f}')\n",
        "print(f'MSE for Maine prediction: {my_MSE(pred_list_KY, ground_truth_KY):.2f}')"
      ]
    },
    {
      "cell_type": "markdown",
      "id": "2cec5206",
      "metadata": {
        "id": "2cec5206"
      },
      "source": [
        "### e. Use the paired T-test to determine the equality of means of the #vaccines administered between the two states for the months of September 2021 and November 2021."
      ]
    },
    {
      "cell_type": "code",
      "execution_count": null,
      "id": "5c6758f9",
      "metadata": {
        "id": "5c6758f9"
      },
      "outputs": [],
      "source": [
        "ME_data = original_vaccinations_data_ME.copy()\n",
        "ME_data = ME_data[ME_data[\"Date\"].dt.year == 2021]\n",
        "ME_data[\"Date\"] = ME_data[\"Date\"].dt.month\n",
        "\n",
        "KY_data = original_vaccinations_data_KY.copy()\n",
        "KY_data = KY_data[KY_data[\"Date\"].dt.year == 2021]\n",
        "KY_data[\"Date\"] = KY_data[\"Date\"].dt.month"
      ]
    },
    {
      "cell_type": "code",
      "execution_count": null,
      "id": "f42966dc",
      "metadata": {
        "id": "f42966dc"
      },
      "outputs": [],
      "source": [
        "ME_administered = ME_data[(ME_data[\"Date\"] == 9) | (ME_data[\"Date\"] == 11)][\"Administered\"]\n",
        "KY_administered = KY_data[(KY_data[\"Date\"] == 9) | (KY_data[\"Date\"] == 11)][\"Administered\"]"
      ]
    },
    {
      "cell_type": "code",
      "execution_count": null,
      "id": "3b7375d7",
      "metadata": {
        "id": "3b7375d7"
      },
      "outputs": [],
      "source": [
        "difference = pd.Series.subtract(ME_administered, KY_administered, fill_value = 0)"
      ]
    },
    {
      "cell_type": "code",
      "execution_count": null,
      "id": "45fbc438",
      "metadata": {
        "id": "45fbc438",
        "outputId": "c80aca61-d46e-4890-d8a3-68bd82d849b6"
      },
      "outputs": [
        {
          "name": "stdout",
          "output_type": "stream",
          "text": [
            "The p-value for the #vaccines administered between the two states is:  4.932096878911056e-91\n"
          ]
        }
      ],
      "source": [
        "df = len(difference) - 1\n",
        "\n",
        "t = t_test(difference)\n",
        "p = 2 * stats.t.sf(abs(t), df)\n",
        "\n",
        "print(\"The p-value for the #vaccines administered between the two states is: \", p)"
      ]
    },
    {
      "cell_type": "markdown",
      "id": "b12900c1",
      "metadata": {
        "id": "b12900c1"
      },
      "source": [
        "##### Conclusion:\n",
        "Since the p-value is very close to 0, it's smaller than 0.05. So, we're able to reject the null hypothesis, and we can conclude that there is a significant difference between #vaccines administered in two states."
      ]
    },
    {
      "cell_type": "markdown",
      "id": "6643eb5d",
      "metadata": {
        "id": "6643eb5d"
      },
      "source": [
        "# <h1><center>Exploratory Tasks</center></h1>"
      ]
    },
    {
      "cell_type": "markdown",
      "id": "f84386c8",
      "metadata": {
        "id": "f84386c8"
      },
      "source": [
        "The Data we used in this part is about the price of bitcoin, we think there is an association between the bitcoin's price and the pandamic. Hence, We propose three new inferences about this dataset."
      ]
    },
    {
      "cell_type": "markdown",
      "id": "66619e9d",
      "metadata": {
        "id": "66619e9d"
      },
      "source": [
        "## Part 1"
      ]
    },
    {
      "cell_type": "code",
      "execution_count": null,
      "id": "275758b6",
      "metadata": {
        "id": "275758b6",
        "outputId": "c30ab0e9-6f7c-437d-9c62-fc6cd7ca9bbd"
      },
      "outputs": [
        {
          "data": {
            "text/html": [
              "<div>\n",
              "<style scoped>\n",
              "    .dataframe tbody tr th:only-of-type {\n",
              "        vertical-align: middle;\n",
              "    }\n",
              "\n",
              "    .dataframe tbody tr th {\n",
              "        vertical-align: top;\n",
              "    }\n",
              "\n",
              "    .dataframe thead th {\n",
              "        text-align: right;\n",
              "    }\n",
              "</style>\n",
              "<table border=\"1\" class=\"dataframe\">\n",
              "  <thead>\n",
              "    <tr style=\"text-align: right;\">\n",
              "      <th></th>\n",
              "      <th>Date</th>\n",
              "      <th>Price</th>\n",
              "      <th>Open</th>\n",
              "      <th>High</th>\n",
              "      <th>Low</th>\n",
              "      <th>Vol.</th>\n",
              "      <th>Change %</th>\n",
              "    </tr>\n",
              "  </thead>\n",
              "  <tbody>\n",
              "    <tr>\n",
              "      <th>0</th>\n",
              "      <td>2012-01-01</td>\n",
              "      <td>5.3</td>\n",
              "      <td>4.7</td>\n",
              "      <td>5.5</td>\n",
              "      <td>4.6</td>\n",
              "      <td>108.51K</td>\n",
              "      <td>11.65</td>\n",
              "    </tr>\n",
              "    <tr>\n",
              "      <th>1</th>\n",
              "      <td>2012-01-02</td>\n",
              "      <td>5.2</td>\n",
              "      <td>5.3</td>\n",
              "      <td>5.5</td>\n",
              "      <td>4.8</td>\n",
              "      <td>69.15K</td>\n",
              "      <td>-0.95</td>\n",
              "    </tr>\n",
              "    <tr>\n",
              "      <th>2</th>\n",
              "      <td>2012-01-03</td>\n",
              "      <td>4.9</td>\n",
              "      <td>5.2</td>\n",
              "      <td>5.3</td>\n",
              "      <td>4.7</td>\n",
              "      <td>125.17K</td>\n",
              "      <td>-6.51</td>\n",
              "    </tr>\n",
              "    <tr>\n",
              "      <th>3</th>\n",
              "      <td>2012-01-04</td>\n",
              "      <td>5.6</td>\n",
              "      <td>4.9</td>\n",
              "      <td>5.7</td>\n",
              "      <td>4.8</td>\n",
              "      <td>131.17K</td>\n",
              "      <td>14.14</td>\n",
              "    </tr>\n",
              "    <tr>\n",
              "      <th>4</th>\n",
              "      <td>2012-01-05</td>\n",
              "      <td>6.9</td>\n",
              "      <td>5.6</td>\n",
              "      <td>7.2</td>\n",
              "      <td>5.6</td>\n",
              "      <td>182.33K</td>\n",
              "      <td>24.78</td>\n",
              "    </tr>\n",
              "    <tr>\n",
              "      <th>...</th>\n",
              "      <td>...</td>\n",
              "      <td>...</td>\n",
              "      <td>...</td>\n",
              "      <td>...</td>\n",
              "      <td>...</td>\n",
              "      <td>...</td>\n",
              "      <td>...</td>\n",
              "    </tr>\n",
              "    <tr>\n",
              "      <th>3648</th>\n",
              "      <td>2021-12-27</td>\n",
              "      <td>50678.2</td>\n",
              "      <td>50783.6</td>\n",
              "      <td>52016.3</td>\n",
              "      <td>50459.0</td>\n",
              "      <td>43.90K</td>\n",
              "      <td>-0.20</td>\n",
              "    </tr>\n",
              "    <tr>\n",
              "      <th>3649</th>\n",
              "      <td>2021-12-28</td>\n",
              "      <td>47545.2</td>\n",
              "      <td>50703.4</td>\n",
              "      <td>50703.8</td>\n",
              "      <td>47345.7</td>\n",
              "      <td>74.39K</td>\n",
              "      <td>-6.18</td>\n",
              "    </tr>\n",
              "    <tr>\n",
              "      <th>3650</th>\n",
              "      <td>2021-12-29</td>\n",
              "      <td>46461.7</td>\n",
              "      <td>47548.4</td>\n",
              "      <td>48121.7</td>\n",
              "      <td>46127.8</td>\n",
              "      <td>63.92K</td>\n",
              "      <td>-2.28</td>\n",
              "    </tr>\n",
              "    <tr>\n",
              "      <th>3651</th>\n",
              "      <td>2021-12-30</td>\n",
              "      <td>47123.3</td>\n",
              "      <td>46470.7</td>\n",
              "      <td>47901.4</td>\n",
              "      <td>46003.0</td>\n",
              "      <td>60.96K</td>\n",
              "      <td>1.42</td>\n",
              "    </tr>\n",
              "    <tr>\n",
              "      <th>3652</th>\n",
              "      <td>2021-12-31</td>\n",
              "      <td>46219.5</td>\n",
              "      <td>47123.3</td>\n",
              "      <td>48553.9</td>\n",
              "      <td>45693.6</td>\n",
              "      <td>58.18K</td>\n",
              "      <td>-1.92</td>\n",
              "    </tr>\n",
              "  </tbody>\n",
              "</table>\n",
              "<p>3653 rows × 7 columns</p>\n",
              "</div>"
            ],
            "text/plain": [
              "           Date    Price     Open     High      Low     Vol.  Change %\n",
              "0    2012-01-01      5.3      4.7      5.5      4.6  108.51K     11.65\n",
              "1    2012-01-02      5.2      5.3      5.5      4.8   69.15K     -0.95\n",
              "2    2012-01-03      4.9      5.2      5.3      4.7  125.17K     -6.51\n",
              "3    2012-01-04      5.6      4.9      5.7      4.8  131.17K     14.14\n",
              "4    2012-01-05      6.9      5.6      7.2      5.6  182.33K     24.78\n",
              "...         ...      ...      ...      ...      ...      ...       ...\n",
              "3648 2021-12-27  50678.2  50783.6  52016.3  50459.0   43.90K     -0.20\n",
              "3649 2021-12-28  47545.2  50703.4  50703.8  47345.7   74.39K     -6.18\n",
              "3650 2021-12-29  46461.7  47548.4  48121.7  46127.8   63.92K     -2.28\n",
              "3651 2021-12-30  47123.3  46470.7  47901.4  46003.0   60.96K      1.42\n",
              "3652 2021-12-31  46219.5  47123.3  48553.9  45693.6   58.18K     -1.92\n",
              "\n",
              "[3653 rows x 7 columns]"
            ]
          },
          "execution_count": 76,
          "metadata": {},
          "output_type": "execute_result"
        }
      ],
      "source": [
        "btc_data = pd.read_csv('BTC 2012-2021.csv')\n",
        "btc_data.loc[:, ['Date']] = pd.to_datetime(btc_data['Date'], infer_datetime_format=True)\n",
        "btc_data.sort_values(by='Date', inplace=True)\n",
        "btc_data.reset_index(drop=True, inplace=True)\n",
        "btc_data"
      ]
    },
    {
      "cell_type": "code",
      "execution_count": null,
      "id": "dcec8f06",
      "metadata": {
        "id": "dcec8f06"
      },
      "outputs": [],
      "source": [
        "original_cases_data\n",
        "original_cases_data.sort_values(by='submission_date', inplace=True)\n",
        "original_cases_data.reset_index(drop=True, inplace=True)"
      ]
    },
    {
      "cell_type": "code",
      "execution_count": null,
      "id": "792b83bf",
      "metadata": {
        "id": "792b83bf",
        "outputId": "804ee6a8-cf4f-40d1-b2d0-30678f4434f2"
      },
      "outputs": [
        {
          "data": {
            "text/html": [
              "<div>\n",
              "<style scoped>\n",
              "    .dataframe tbody tr th:only-of-type {\n",
              "        vertical-align: middle;\n",
              "    }\n",
              "\n",
              "    .dataframe tbody tr th {\n",
              "        vertical-align: top;\n",
              "    }\n",
              "\n",
              "    .dataframe thead th {\n",
              "        text-align: right;\n",
              "    }\n",
              "</style>\n",
              "<table border=\"1\" class=\"dataframe\">\n",
              "  <thead>\n",
              "    <tr style=\"text-align: right;\">\n",
              "      <th></th>\n",
              "      <th>Date</th>\n",
              "      <th>new_case</th>\n",
              "      <th>new_death</th>\n",
              "    </tr>\n",
              "  </thead>\n",
              "  <tbody>\n",
              "    <tr>\n",
              "      <th>0</th>\n",
              "      <td>2020-01-22</td>\n",
              "      <td>0</td>\n",
              "      <td>0</td>\n",
              "    </tr>\n",
              "    <tr>\n",
              "      <th>1</th>\n",
              "      <td>2020-01-23</td>\n",
              "      <td>1</td>\n",
              "      <td>0</td>\n",
              "    </tr>\n",
              "    <tr>\n",
              "      <th>2</th>\n",
              "      <td>2020-01-24</td>\n",
              "      <td>1</td>\n",
              "      <td>0</td>\n",
              "    </tr>\n",
              "    <tr>\n",
              "      <th>3</th>\n",
              "      <td>2020-01-25</td>\n",
              "      <td>0</td>\n",
              "      <td>0</td>\n",
              "    </tr>\n",
              "    <tr>\n",
              "      <th>4</th>\n",
              "      <td>2020-01-26</td>\n",
              "      <td>1</td>\n",
              "      <td>0</td>\n",
              "    </tr>\n",
              "    <tr>\n",
              "      <th>...</th>\n",
              "      <td>...</td>\n",
              "      <td>...</td>\n",
              "      <td>...</td>\n",
              "    </tr>\n",
              "    <tr>\n",
              "      <th>840</th>\n",
              "      <td>2022-05-11</td>\n",
              "      <td>146815</td>\n",
              "      <td>555</td>\n",
              "    </tr>\n",
              "    <tr>\n",
              "      <th>841</th>\n",
              "      <td>2022-05-12</td>\n",
              "      <td>100435</td>\n",
              "      <td>254</td>\n",
              "    </tr>\n",
              "    <tr>\n",
              "      <th>842</th>\n",
              "      <td>2022-05-13</td>\n",
              "      <td>114868</td>\n",
              "      <td>424</td>\n",
              "    </tr>\n",
              "    <tr>\n",
              "      <th>843</th>\n",
              "      <td>2022-05-14</td>\n",
              "      <td>19502</td>\n",
              "      <td>31</td>\n",
              "    </tr>\n",
              "    <tr>\n",
              "      <th>844</th>\n",
              "      <td>2022-05-15</td>\n",
              "      <td>43926</td>\n",
              "      <td>40</td>\n",
              "    </tr>\n",
              "  </tbody>\n",
              "</table>\n",
              "<p>845 rows × 3 columns</p>\n",
              "</div>"
            ],
            "text/plain": [
              "          Date  new_case  new_death\n",
              "0   2020-01-22         0          0\n",
              "1   2020-01-23         1          0\n",
              "2   2020-01-24         1          0\n",
              "3   2020-01-25         0          0\n",
              "4   2020-01-26         1          0\n",
              "..         ...       ...        ...\n",
              "840 2022-05-11    146815        555\n",
              "841 2022-05-12    100435        254\n",
              "842 2022-05-13    114868        424\n",
              "843 2022-05-14     19502         31\n",
              "844 2022-05-15     43926         40\n",
              "\n",
              "[845 rows x 3 columns]"
            ]
          },
          "execution_count": 78,
          "metadata": {},
          "output_type": "execute_result"
        }
      ],
      "source": [
        "us_cases_data = original_cases_data.groupby(by=['submission_date'], dropna=False).sum().reset_index()\n",
        "us_cases_data.rename(columns={'submission_date': 'Date'}, inplace=True)\n",
        "us_cases_data"
      ]
    },
    {
      "cell_type": "code",
      "execution_count": null,
      "id": "0ca91287",
      "metadata": {
        "id": "0ca91287",
        "outputId": "40b99006-8f85-4fee-f4c6-9a62e5a3381f"
      },
      "outputs": [
        {
          "data": {
            "text/html": [
              "<div>\n",
              "<style scoped>\n",
              "    .dataframe tbody tr th:only-of-type {\n",
              "        vertical-align: middle;\n",
              "    }\n",
              "\n",
              "    .dataframe tbody tr th {\n",
              "        vertical-align: top;\n",
              "    }\n",
              "\n",
              "    .dataframe thead th {\n",
              "        text-align: right;\n",
              "    }\n",
              "</style>\n",
              "<table border=\"1\" class=\"dataframe\">\n",
              "  <thead>\n",
              "    <tr style=\"text-align: right;\">\n",
              "      <th></th>\n",
              "      <th>Date</th>\n",
              "      <th>new_case</th>\n",
              "      <th>new_death</th>\n",
              "      <th>Price</th>\n",
              "      <th>Open</th>\n",
              "      <th>High</th>\n",
              "      <th>Low</th>\n",
              "      <th>Vol.</th>\n",
              "      <th>Change %</th>\n",
              "    </tr>\n",
              "  </thead>\n",
              "  <tbody>\n",
              "    <tr>\n",
              "      <th>0</th>\n",
              "      <td>2020-01-22</td>\n",
              "      <td>0</td>\n",
              "      <td>0</td>\n",
              "      <td>8678.5</td>\n",
              "      <td>8733.0</td>\n",
              "      <td>8805.4</td>\n",
              "      <td>8610.8</td>\n",
              "      <td>509.06K</td>\n",
              "      <td>-0.62</td>\n",
              "    </tr>\n",
              "    <tr>\n",
              "      <th>1</th>\n",
              "      <td>2020-01-23</td>\n",
              "      <td>1</td>\n",
              "      <td>0</td>\n",
              "      <td>8405.1</td>\n",
              "      <td>8678.5</td>\n",
              "      <td>8687.3</td>\n",
              "      <td>8309.6</td>\n",
              "      <td>722.67K</td>\n",
              "      <td>-3.15</td>\n",
              "    </tr>\n",
              "    <tr>\n",
              "      <th>2</th>\n",
              "      <td>2020-01-24</td>\n",
              "      <td>1</td>\n",
              "      <td>0</td>\n",
              "      <td>8439.9</td>\n",
              "      <td>8404.9</td>\n",
              "      <td>8522.0</td>\n",
              "      <td>8242.6</td>\n",
              "      <td>617.02K</td>\n",
              "      <td>0.41</td>\n",
              "    </tr>\n",
              "    <tr>\n",
              "      <th>3</th>\n",
              "      <td>2020-01-25</td>\n",
              "      <td>0</td>\n",
              "      <td>0</td>\n",
              "      <td>8341.6</td>\n",
              "      <td>8439.9</td>\n",
              "      <td>8447.6</td>\n",
              "      <td>8277.2</td>\n",
              "      <td>444.00K</td>\n",
              "      <td>-1.17</td>\n",
              "    </tr>\n",
              "    <tr>\n",
              "      <th>4</th>\n",
              "      <td>2020-01-26</td>\n",
              "      <td>1</td>\n",
              "      <td>0</td>\n",
              "      <td>8607.8</td>\n",
              "      <td>8341.6</td>\n",
              "      <td>8607.8</td>\n",
              "      <td>8304.9</td>\n",
              "      <td>468.34K</td>\n",
              "      <td>3.19</td>\n",
              "    </tr>\n",
              "    <tr>\n",
              "      <th>...</th>\n",
              "      <td>...</td>\n",
              "      <td>...</td>\n",
              "      <td>...</td>\n",
              "      <td>...</td>\n",
              "      <td>...</td>\n",
              "      <td>...</td>\n",
              "      <td>...</td>\n",
              "      <td>...</td>\n",
              "      <td>...</td>\n",
              "    </tr>\n",
              "    <tr>\n",
              "      <th>705</th>\n",
              "      <td>2021-12-27</td>\n",
              "      <td>466385</td>\n",
              "      <td>1626</td>\n",
              "      <td>50678.2</td>\n",
              "      <td>50783.6</td>\n",
              "      <td>52016.3</td>\n",
              "      <td>50459.0</td>\n",
              "      <td>43.90K</td>\n",
              "      <td>-0.20</td>\n",
              "    </tr>\n",
              "    <tr>\n",
              "      <th>706</th>\n",
              "      <td>2021-12-28</td>\n",
              "      <td>401625</td>\n",
              "      <td>2185</td>\n",
              "      <td>47545.2</td>\n",
              "      <td>50703.4</td>\n",
              "      <td>50703.8</td>\n",
              "      <td>47345.7</td>\n",
              "      <td>74.39K</td>\n",
              "      <td>-6.18</td>\n",
              "    </tr>\n",
              "    <tr>\n",
              "      <th>707</th>\n",
              "      <td>2021-12-29</td>\n",
              "      <td>488843</td>\n",
              "      <td>1578</td>\n",
              "      <td>46461.7</td>\n",
              "      <td>47548.4</td>\n",
              "      <td>48121.7</td>\n",
              "      <td>46127.8</td>\n",
              "      <td>63.92K</td>\n",
              "      <td>-2.28</td>\n",
              "    </tr>\n",
              "    <tr>\n",
              "      <th>708</th>\n",
              "      <td>2021-12-30</td>\n",
              "      <td>602744</td>\n",
              "      <td>1339</td>\n",
              "      <td>47123.3</td>\n",
              "      <td>46470.7</td>\n",
              "      <td>47901.4</td>\n",
              "      <td>46003.0</td>\n",
              "      <td>60.96K</td>\n",
              "      <td>1.42</td>\n",
              "    </tr>\n",
              "    <tr>\n",
              "      <th>709</th>\n",
              "      <td>2021-12-31</td>\n",
              "      <td>466992</td>\n",
              "      <td>1334</td>\n",
              "      <td>46219.5</td>\n",
              "      <td>47123.3</td>\n",
              "      <td>48553.9</td>\n",
              "      <td>45693.6</td>\n",
              "      <td>58.18K</td>\n",
              "      <td>-1.92</td>\n",
              "    </tr>\n",
              "  </tbody>\n",
              "</table>\n",
              "<p>710 rows × 9 columns</p>\n",
              "</div>"
            ],
            "text/plain": [
              "          Date  new_case  new_death    Price     Open     High      Low  \\\n",
              "0   2020-01-22         0          0   8678.5   8733.0   8805.4   8610.8   \n",
              "1   2020-01-23         1          0   8405.1   8678.5   8687.3   8309.6   \n",
              "2   2020-01-24         1          0   8439.9   8404.9   8522.0   8242.6   \n",
              "3   2020-01-25         0          0   8341.6   8439.9   8447.6   8277.2   \n",
              "4   2020-01-26         1          0   8607.8   8341.6   8607.8   8304.9   \n",
              "..         ...       ...        ...      ...      ...      ...      ...   \n",
              "705 2021-12-27    466385       1626  50678.2  50783.6  52016.3  50459.0   \n",
              "706 2021-12-28    401625       2185  47545.2  50703.4  50703.8  47345.7   \n",
              "707 2021-12-29    488843       1578  46461.7  47548.4  48121.7  46127.8   \n",
              "708 2021-12-30    602744       1339  47123.3  46470.7  47901.4  46003.0   \n",
              "709 2021-12-31    466992       1334  46219.5  47123.3  48553.9  45693.6   \n",
              "\n",
              "        Vol.  Change %  \n",
              "0    509.06K     -0.62  \n",
              "1    722.67K     -3.15  \n",
              "2    617.02K      0.41  \n",
              "3    444.00K     -1.17  \n",
              "4    468.34K      3.19  \n",
              "..       ...       ...  \n",
              "705   43.90K     -0.20  \n",
              "706   74.39K     -6.18  \n",
              "707   63.92K     -2.28  \n",
              "708   60.96K      1.42  \n",
              "709   58.18K     -1.92  \n",
              "\n",
              "[710 rows x 9 columns]"
            ]
          },
          "execution_count": 79,
          "metadata": {},
          "output_type": "execute_result"
        }
      ],
      "source": [
        "btc_case_data = us_cases_data.merge(btc_data, how='inner', on='Date')\n",
        "btc_case_data"
      ]
    },
    {
      "cell_type": "markdown",
      "id": "e30a490f",
      "metadata": {
        "id": "e30a490f"
      },
      "source": [
        "### a. Check if new case/death and bitcoin price are linear correlated\n",
        "Common beliefs suggest that COVID19 may have impact on the bitcoin price but not the otherway around.\n",
        "So, to investigate the impact of cases data towards bitcoin dataset, the pearson correlation test can check for possible linear\n",
        "relationship between to Dataset.\n",
        "1. H0:  new case/death and bitcoin price are NOT linearly correlated; H1:  new case/death and bitcoin price are linearly correlated\n",
        "2. Compute S(x,y)"
      ]
    },
    {
      "cell_type": "code",
      "execution_count": null,
      "id": "0231b3de",
      "metadata": {
        "id": "0231b3de"
      },
      "outputs": [],
      "source": [
        "def compute_corr(X,Y):\n",
        "    n = X.shape[0]\n",
        "    X_bar = X.mean()\n",
        "    Y_bar = Y.mean()\n",
        "    covar = 0\n",
        "    sigma2X = 0\n",
        "    sigma2Y = 0\n",
        "    for i in range(n):\n",
        "        covar += (X[i] - X_bar) * (Y[i] - Y_bar)\n",
        "        sigma2X += (X[i] - X_bar)**2\n",
        "        sigma2Y += (Y[i] - Y_bar)**2\n",
        "    corr = covar / ((np.sqrt(sigma2X)) * (np.sqrt(sigma2Y)))\n",
        "    return corr"
      ]
    },
    {
      "cell_type": "code",
      "execution_count": null,
      "id": "acb06633",
      "metadata": {
        "id": "acb06633",
        "outputId": "4f1a8199-911f-46f4-caa8-ba43564224a7"
      },
      "outputs": [
        {
          "name": "stdout",
          "output_type": "stream",
          "text": [
            "The correlation between new case and bitcoin Price is 0.3045951530637549,The correlation between new death and bitcoin Price is 0.12849715144651486\n"
          ]
        }
      ],
      "source": [
        "corr_cs_pr = compute_corr(btc_case_data['new_case'],btc_case_data['Price'])\n",
        "corr_dth_pr = compute_corr(btc_case_data['new_death'],btc_case_data['Price'])\n",
        "print(('The correlation between new case and bitcoin Price is {},'\n",
        "       'The correlation between new death and bitcoin Price is {}').format(corr_cs_pr, corr_dth_pr))"
      ]
    },
    {
      "cell_type": "markdown",
      "id": "89ca2b99",
      "metadata": {
        "id": "89ca2b99"
      },
      "source": [
        "Sicne the absolute value of both correlations are smaller than 0.5. We accept the original assumption.\n",
        "Therefore, new case/death and bitcoin price are NOT linearly correlated"
      ]
    },
    {
      "cell_type": "code",
      "execution_count": null,
      "id": "08a30b05",
      "metadata": {
        "id": "08a30b05",
        "outputId": "c82064e2-5ebc-443a-c63a-88073860554e"
      },
      "outputs": [
        {
          "data": {
            "text/plain": [
              "Text(0.5, 1.0, 'bitcoin price over time')"
            ]
          },
          "execution_count": 82,
          "metadata": {},
          "output_type": "execute_result"
        },
        {
          "data": {
            "image/png": "[encoded data removed]",
            "text/plain": [
              "<Figure size 1080x360 with 2 Axes>"
            ]
          },
          "metadata": {
            "needs_background": "light"
          },
          "output_type": "display_data"
        },
        {
          "data": {
            "image/png": "[encoded data removed]",
            "text/plain": [
              "<Figure size 504x360 with 1 Axes>"
            ]
          },
          "metadata": {
            "needs_background": "light"
          },
          "output_type": "display_data"
        }
      ],
      "source": [
        "plt.figure(figsize=(15, 5))\n",
        "plt.subplot(121)\n",
        "plt.gca().xaxis.set_major_formatter(mdates.DateFormatter('%Y-%m'))\n",
        "plt.gcf().autofmt_xdate()\n",
        "plt.plot(btc_case_data['Date'], btc_case_data['new_case'].to_numpy())\n",
        "plt.axhline(y=btc_case_data['new_case'].mean(), color='r', linestyle='--')\n",
        "plt.axhline(y=btc_case_data['new_case'].median(), color='r', linestyle='-.')\n",
        "plt.legend(['new case','mean','median'])\n",
        "plt.title('new case data over time')\n",
        "plt.subplot(122)\n",
        "plt.gca().xaxis.set_major_formatter(mdates.DateFormatter('%Y-%m'))\n",
        "plt.gcf().autofmt_xdate()\n",
        "plt.plot(btc_case_data['Date'], btc_case_data['new_death'].to_numpy())\n",
        "plt.axhline(y=btc_case_data['new_death'].mean(), color='r', linestyle='--')\n",
        "plt.axhline(y=btc_case_data['new_death'].median(), color='r', linestyle='-.')\n",
        "plt.legend(['new death','mean','median'])\n",
        "plt.title('new death data over time')\n",
        "\n",
        "plt.figure(figsize=(7, 5))\n",
        "plt.gca().xaxis.set_major_formatter(mdates.DateFormatter('%Y-%m'))\n",
        "plt.gcf().autofmt_xdate()\n",
        "plt.plot(btc_case_data['Date'], btc_case_data['Price'].to_numpy())\n",
        "plt.axhline(y=btc_case_data['Price'].mean(), color='r', linestyle='--')\n",
        "plt.axhline(y=btc_case_data['Price'].median(), color='r', linestyle='-.')\n",
        "plt.legend(['bitcoint price','mean','median'])\n",
        "plt.title('bitcoin price over time')"
      ]
    },
    {
      "cell_type": "markdown",
      "id": "1c9b2277",
      "metadata": {
        "id": "1c9b2277"
      },
      "source": [
        "### b. Use Chi-square test to check the independence between cases dataset and bitcoin price"
      ]
    },
    {
      "cell_type": "markdown",
      "id": "8d8d3a54",
      "metadata": {
        "id": "8d8d3a54"
      },
      "source": [
        "Use the mean to divide the case data into low number of new cases high number of new cases. Perform the same method on bitcoin price column and the price data is divided into high price and low price.\n",
        "1. H0:  new case and bitcoin price are independent; H1:  new case and bitcoin price are NOT independent"
      ]
    },
    {
      "cell_type": "code",
      "execution_count": null,
      "id": "c5cd21eb",
      "metadata": {
        "id": "c5cd21eb"
      },
      "outputs": [],
      "source": [
        "hc_hp = ((btc_case_data['new_case'] > btc_case_data['new_case'].mean()) & (btc_case_data['Price'] > btc_case_data['Price'].mean())).value_counts()[1]\n",
        "hc_lp = ((btc_case_data['new_case'] > btc_case_data['new_case'].mean()) & (btc_case_data['Price'] <= btc_case_data['Price'].mean())).value_counts()[1]\n",
        "lc_hp = ((btc_case_data['new_case'] <= btc_case_data['new_case'].mean()) & (btc_case_data['Price'] > btc_case_data['Price'].mean())).value_counts()[1]\n",
        "lc_lp = ((btc_case_data['new_case'] <= btc_case_data['new_case'].mean()) & (btc_case_data['Price'] <= btc_case_data['Price'].mean())).value_counts()[1]"
      ]
    },
    {
      "cell_type": "code",
      "execution_count": null,
      "id": "5ca44591",
      "metadata": {
        "id": "5ca44591",
        "outputId": "cb1b219b-e6e4-44fb-f317-8c56409c147c"
      },
      "outputs": [
        {
          "name": "stdout",
          "output_type": "stream",
          "text": [
            "degree of freedom is 1\n",
            "Q_obs value is:65.95674900752013\n",
            "After table lookup the Chi square value for df=1, alpha=0.05 is 3.841\n"
          ]
        }
      ],
      "source": [
        "O_cp = np.array([[hc_hp, hc_lp],[lc_hp, lc_lp]])\n",
        "E_cp = np.zeros((2,2))\n",
        "for i in range(2):\n",
        "    for j in range(2):\n",
        "        E_cp[i,j] = (O_cp[i,:].sum() / O_cp.sum()) * O_cp[:,j].sum()\n",
        "\n",
        "Q_obs = 0      \n",
        "for i in range(2):\n",
        "    for j in range(2):\n",
        "        Q_obs += (E_cp[i,j] - O_cp[i,j])**2 / E_cp[i,j]\n",
        "print('degree of freedom is 1')\n",
        "print('Q_obs value is:' + str(Q_obs))\n",
        "print('After table lookup the Chi square value for df=1, alpha=0.05 is 3.841')"
      ]
    },
    {
      "cell_type": "markdown",
      "id": "864c3fd8",
      "metadata": {
        "id": "864c3fd8"
      },
      "source": [
        "Since the Q_obs is smaller than Chi square value, we accept H0. i.e. the bitcoin price and new cases are independent"
      ]
    },
    {
      "cell_type": "markdown",
      "id": "5172b15f",
      "metadata": {
        "id": "5172b15f"
      },
      "source": [
        "### c. Use t-test to check if new cases has impact on bitcoin price"
      ]
    },
    {
      "cell_type": "markdown",
      "id": "2d941367",
      "metadata": {
        "id": "2d941367"
      },
      "source": [
        "By observing the graph above, Nov 2020 to Feb 2021 are the time where the number of new cases reach the peak. By comparing the dividing the data samples before and during this period we can test if number of new covid cases has impact on bitcoin price.\n",
        "Here we use the Z test.\n",
        "1. H0:  new case has no impact bitcoin price; H1:  new case has impact on bitcoin price"
      ]
    },
    {
      "cell_type": "code",
      "execution_count": null,
      "id": "79679050",
      "metadata": {
        "id": "79679050",
        "outputId": "d2a18d80-1a15-4992-babb-9c22e0c70f03"
      },
      "outputs": [
        {
          "name": "stdout",
          "output_type": "stream",
          "text": [
            "Z is:2.8726706203835857, p-value is:0.0040701822873008275\n"
          ]
        }
      ],
      "source": [
        "def Z_test(D1,D2):\n",
        "    D1_bar = D1.mean()\n",
        "    D2_bar = D2.mean()\n",
        "    n1 = D1.shape[0]\n",
        "    n2 = D2.shape[0]\n",
        "    sigma1_sqr = (((D1**2).sum()) / n1) - D1_bar**2\n",
        "    sigma2_sqr = (((D2**2).sum()) / n2) - D2_bar**2\n",
        "    Z = (D1_bar - D2_bar) / np.sqrt(sigma1_sqr/n1 + sigma2_sqr/n2)\n",
        "    p = 2 * ( 1 - stats.norm.cdf(np.abs(Z)) )\n",
        "    return Z,p\n",
        "\n",
        "\n",
        "mask_covid = (btc_case_data['Date'] >= '2020-11-1') & (btc_case_data['Date'] <= '2021-3-1')\n",
        "mask_ncovid = (btc_case_data['Date'] <= '2021-10-1')\n",
        "covid_price = btc_case_data.loc[mask_covid]['Price'].to_numpy()\n",
        "ncovid_price = btc_case_data.loc[mask_ncovid]['Price'].to_numpy()\n",
        "\n",
        "Z_tmp, p_tmp = Z_test(covid_price,ncovid_price)\n",
        "print(\"Z is:{}, p-value is:{}\".format(Z_tmp,p_tmp))"
      ]
    },
    {
      "cell_type": "markdown",
      "id": "5adc35e8",
      "metadata": {
        "id": "5adc35e8"
      },
      "source": [
        "We compare the bitcoin price when the covid cases are surging and before that using Z-test. As a result, Z statistic is greater than 1.96 and p value <0.05. Thus, The null hypothesis is Rejected. Thus, Covid does has impact on bicoin price based on this inference."
      ]
    },
    {
      "cell_type": "markdown",
      "id": "423668aa",
      "metadata": {
        "id": "423668aa"
      },
      "source": [
        "### d. Use Pearson correlation test to check if vaccination rate has an impact on bitcoin price"
      ]
    },
    {
      "cell_type": "code",
      "execution_count": null,
      "id": "194a6f55",
      "metadata": {
        "id": "194a6f55",
        "outputId": "e197303c-4f9b-4755-8b8e-31179cabe2ea"
      },
      "outputs": [
        {
          "data": {
            "text/html": [
              "<div>\n",
              "<style scoped>\n",
              "    .dataframe tbody tr th:only-of-type {\n",
              "        vertical-align: middle;\n",
              "    }\n",
              "\n",
              "    .dataframe tbody tr th {\n",
              "        vertical-align: top;\n",
              "    }\n",
              "\n",
              "    .dataframe thead th {\n",
              "        text-align: right;\n",
              "    }\n",
              "</style>\n",
              "<table border=\"1\" class=\"dataframe\">\n",
              "  <thead>\n",
              "    <tr style=\"text-align: right;\">\n",
              "      <th></th>\n",
              "      <th>Date</th>\n",
              "      <th>Administered</th>\n",
              "    </tr>\n",
              "  </thead>\n",
              "  <tbody>\n",
              "    <tr>\n",
              "      <th>0</th>\n",
              "      <td>2020-12-13</td>\n",
              "      <td>0</td>\n",
              "    </tr>\n",
              "    <tr>\n",
              "      <th>1</th>\n",
              "      <td>2020-12-14</td>\n",
              "      <td>1018</td>\n",
              "    </tr>\n",
              "    <tr>\n",
              "      <th>2</th>\n",
              "      <td>2020-12-15</td>\n",
              "      <td>25276</td>\n",
              "    </tr>\n",
              "    <tr>\n",
              "      <th>3</th>\n",
              "      <td>2020-12-16</td>\n",
              "      <td>103268</td>\n",
              "    </tr>\n",
              "    <tr>\n",
              "      <th>4</th>\n",
              "      <td>2020-12-17</td>\n",
              "      <td>254684</td>\n",
              "    </tr>\n",
              "    <tr>\n",
              "      <th>...</th>\n",
              "      <td>...</td>\n",
              "      <td>...</td>\n",
              "    </tr>\n",
              "    <tr>\n",
              "      <th>515</th>\n",
              "      <td>2022-05-12</td>\n",
              "      <td>1176377214</td>\n",
              "    </tr>\n",
              "    <tr>\n",
              "      <th>516</th>\n",
              "      <td>2022-05-13</td>\n",
              "      <td>1177191264</td>\n",
              "    </tr>\n",
              "    <tr>\n",
              "      <th>517</th>\n",
              "      <td>2022-05-14</td>\n",
              "      <td>1178122356</td>\n",
              "    </tr>\n",
              "    <tr>\n",
              "      <th>518</th>\n",
              "      <td>2022-05-15</td>\n",
              "      <td>1178718573</td>\n",
              "    </tr>\n",
              "    <tr>\n",
              "      <th>519</th>\n",
              "      <td>2022-05-16</td>\n",
              "      <td>1179059608</td>\n",
              "    </tr>\n",
              "  </tbody>\n",
              "</table>\n",
              "<p>520 rows × 2 columns</p>\n",
              "</div>"
            ],
            "text/plain": [
              "          Date  Administered\n",
              "0   2020-12-13             0\n",
              "1   2020-12-14          1018\n",
              "2   2020-12-15         25276\n",
              "3   2020-12-16        103268\n",
              "4   2020-12-17        254684\n",
              "..         ...           ...\n",
              "515 2022-05-12    1176377214\n",
              "516 2022-05-13    1177191264\n",
              "517 2022-05-14    1178122356\n",
              "518 2022-05-15    1178718573\n",
              "519 2022-05-16    1179059608\n",
              "\n",
              "[520 rows x 2 columns]"
            ]
          },
          "execution_count": 86,
          "metadata": {},
          "output_type": "execute_result"
        }
      ],
      "source": [
        "original_vaccinations_data\n",
        "original_vaccinations_data.sort_values(by='Date', inplace=True)\n",
        "original_vaccinations_data.reset_index(drop=True, inplace=True)\n",
        "original_vaccinations_data\n",
        "us_vaccine_data = original_vaccinations_data.groupby(by=['Date'], dropna=False).sum().reset_index()\n",
        "us_vaccine_data"
      ]
    },
    {
      "cell_type": "code",
      "execution_count": null,
      "id": "c1e81fb6",
      "metadata": {
        "id": "c1e81fb6",
        "outputId": "131f1579-1426-407e-9fe9-ff7622ca427d"
      },
      "outputs": [
        {
          "name": "stderr",
          "output_type": "stream",
          "text": [
            "/Users/zhezhou/opt/anaconda3/lib/python3.8/site-packages/pandas/core/indexing.py:1637: SettingWithCopyWarning: \n",
            "A value is trying to be set on a copy of a slice from a DataFrame\n",
            "\n",
            "See the caveats in the documentation: https://pandas.pydata.org/pandas-docs/stable/user_guide/indexing.html#returning-a-view-versus-a-copy\n",
            "  self._setitem_single_block(indexer, value, name)\n"
          ]
        }
      ],
      "source": [
        "us_vaccine_data['Administered_new'] = us_vaccine_data['Administered'].diff()\n",
        "us_vaccine_data['Administered_new'].iloc[0] = 0"
      ]
    },
    {
      "cell_type": "code",
      "execution_count": null,
      "id": "d568fd7b",
      "metadata": {
        "id": "d568fd7b",
        "outputId": "97f5d693-cda8-438a-80d1-b2caddeeeb79"
      },
      "outputs": [
        {
          "data": {
            "text/html": [
              "<div>\n",
              "<style scoped>\n",
              "    .dataframe tbody tr th:only-of-type {\n",
              "        vertical-align: middle;\n",
              "    }\n",
              "\n",
              "    .dataframe tbody tr th {\n",
              "        vertical-align: top;\n",
              "    }\n",
              "\n",
              "    .dataframe thead th {\n",
              "        text-align: right;\n",
              "    }\n",
              "</style>\n",
              "<table border=\"1\" class=\"dataframe\">\n",
              "  <thead>\n",
              "    <tr style=\"text-align: right;\">\n",
              "      <th></th>\n",
              "      <th>Date</th>\n",
              "      <th>Administered</th>\n",
              "      <th>Administered_new</th>\n",
              "    </tr>\n",
              "  </thead>\n",
              "  <tbody>\n",
              "    <tr>\n",
              "      <th>0</th>\n",
              "      <td>2020-12-13</td>\n",
              "      <td>0</td>\n",
              "      <td>0.0</td>\n",
              "    </tr>\n",
              "    <tr>\n",
              "      <th>1</th>\n",
              "      <td>2020-12-14</td>\n",
              "      <td>1018</td>\n",
              "      <td>1018.0</td>\n",
              "    </tr>\n",
              "    <tr>\n",
              "      <th>2</th>\n",
              "      <td>2020-12-15</td>\n",
              "      <td>25276</td>\n",
              "      <td>24258.0</td>\n",
              "    </tr>\n",
              "    <tr>\n",
              "      <th>3</th>\n",
              "      <td>2020-12-16</td>\n",
              "      <td>103268</td>\n",
              "      <td>77992.0</td>\n",
              "    </tr>\n",
              "    <tr>\n",
              "      <th>4</th>\n",
              "      <td>2020-12-17</td>\n",
              "      <td>254684</td>\n",
              "      <td>151416.0</td>\n",
              "    </tr>\n",
              "    <tr>\n",
              "      <th>...</th>\n",
              "      <td>...</td>\n",
              "      <td>...</td>\n",
              "      <td>...</td>\n",
              "    </tr>\n",
              "    <tr>\n",
              "      <th>515</th>\n",
              "      <td>2022-05-12</td>\n",
              "      <td>1176377214</td>\n",
              "      <td>960610.0</td>\n",
              "    </tr>\n",
              "    <tr>\n",
              "      <th>516</th>\n",
              "      <td>2022-05-13</td>\n",
              "      <td>1177191264</td>\n",
              "      <td>814050.0</td>\n",
              "    </tr>\n",
              "    <tr>\n",
              "      <th>517</th>\n",
              "      <td>2022-05-14</td>\n",
              "      <td>1178122356</td>\n",
              "      <td>931092.0</td>\n",
              "    </tr>\n",
              "    <tr>\n",
              "      <th>518</th>\n",
              "      <td>2022-05-15</td>\n",
              "      <td>1178718573</td>\n",
              "      <td>596217.0</td>\n",
              "    </tr>\n",
              "    <tr>\n",
              "      <th>519</th>\n",
              "      <td>2022-05-16</td>\n",
              "      <td>1179059608</td>\n",
              "      <td>341035.0</td>\n",
              "    </tr>\n",
              "  </tbody>\n",
              "</table>\n",
              "<p>520 rows × 3 columns</p>\n",
              "</div>"
            ],
            "text/plain": [
              "          Date  Administered  Administered_new\n",
              "0   2020-12-13             0               0.0\n",
              "1   2020-12-14          1018            1018.0\n",
              "2   2020-12-15         25276           24258.0\n",
              "3   2020-12-16        103268           77992.0\n",
              "4   2020-12-17        254684          151416.0\n",
              "..         ...           ...               ...\n",
              "515 2022-05-12    1176377214          960610.0\n",
              "516 2022-05-13    1177191264          814050.0\n",
              "517 2022-05-14    1178122356          931092.0\n",
              "518 2022-05-15    1178718573          596217.0\n",
              "519 2022-05-16    1179059608          341035.0\n",
              "\n",
              "[520 rows x 3 columns]"
            ]
          },
          "execution_count": 88,
          "metadata": {},
          "output_type": "execute_result"
        }
      ],
      "source": [
        "us_vaccine_data"
      ]
    },
    {
      "cell_type": "code",
      "execution_count": null,
      "id": "cce4158c",
      "metadata": {
        "id": "cce4158c",
        "outputId": "4ce7a4e6-bc97-49ff-b949-567db05a98d9"
      },
      "outputs": [
        {
          "data": {
            "text/html": [
              "<div>\n",
              "<style scoped>\n",
              "    .dataframe tbody tr th:only-of-type {\n",
              "        vertical-align: middle;\n",
              "    }\n",
              "\n",
              "    .dataframe tbody tr th {\n",
              "        vertical-align: top;\n",
              "    }\n",
              "\n",
              "    .dataframe thead th {\n",
              "        text-align: right;\n",
              "    }\n",
              "</style>\n",
              "<table border=\"1\" class=\"dataframe\">\n",
              "  <thead>\n",
              "    <tr style=\"text-align: right;\">\n",
              "      <th></th>\n",
              "      <th>Date</th>\n",
              "      <th>Administered</th>\n",
              "      <th>Administered_new</th>\n",
              "      <th>Price</th>\n",
              "      <th>Open</th>\n",
              "      <th>High</th>\n",
              "      <th>Low</th>\n",
              "      <th>Vol.</th>\n",
              "      <th>Change %</th>\n",
              "    </tr>\n",
              "  </thead>\n",
              "  <tbody>\n",
              "    <tr>\n",
              "      <th>0</th>\n",
              "      <td>2020-12-13</td>\n",
              "      <td>0</td>\n",
              "      <td>0.0</td>\n",
              "      <td>19176.8</td>\n",
              "      <td>18808.1</td>\n",
              "      <td>19403.6</td>\n",
              "      <td>18716.8</td>\n",
              "      <td>82.45K</td>\n",
              "      <td>1.96</td>\n",
              "    </tr>\n",
              "    <tr>\n",
              "      <th>1</th>\n",
              "      <td>2020-12-14</td>\n",
              "      <td>1018</td>\n",
              "      <td>1018.0</td>\n",
              "      <td>19273.8</td>\n",
              "      <td>19176.4</td>\n",
              "      <td>19346.5</td>\n",
              "      <td>19007.0</td>\n",
              "      <td>67.11K</td>\n",
              "      <td>0.51</td>\n",
              "    </tr>\n",
              "    <tr>\n",
              "      <th>2</th>\n",
              "      <td>2020-12-15</td>\n",
              "      <td>25276</td>\n",
              "      <td>24258.0</td>\n",
              "      <td>19434.9</td>\n",
              "      <td>19273.9</td>\n",
              "      <td>19556.3</td>\n",
              "      <td>19076.2</td>\n",
              "      <td>98.39K</td>\n",
              "      <td>0.84</td>\n",
              "    </tr>\n",
              "    <tr>\n",
              "      <th>3</th>\n",
              "      <td>2020-12-16</td>\n",
              "      <td>103268</td>\n",
              "      <td>77992.0</td>\n",
              "      <td>21352.2</td>\n",
              "      <td>19434.7</td>\n",
              "      <td>21525.3</td>\n",
              "      <td>19299.7</td>\n",
              "      <td>199.81K</td>\n",
              "      <td>9.87</td>\n",
              "    </tr>\n",
              "    <tr>\n",
              "      <th>4</th>\n",
              "      <td>2020-12-17</td>\n",
              "      <td>254684</td>\n",
              "      <td>151416.0</td>\n",
              "      <td>22825.4</td>\n",
              "      <td>21352.3</td>\n",
              "      <td>23738.0</td>\n",
              "      <td>21243.1</td>\n",
              "      <td>310.74K</td>\n",
              "      <td>6.90</td>\n",
              "    </tr>\n",
              "    <tr>\n",
              "      <th>...</th>\n",
              "      <td>...</td>\n",
              "      <td>...</td>\n",
              "      <td>...</td>\n",
              "      <td>...</td>\n",
              "      <td>...</td>\n",
              "      <td>...</td>\n",
              "      <td>...</td>\n",
              "      <td>...</td>\n",
              "      <td>...</td>\n",
              "    </tr>\n",
              "    <tr>\n",
              "      <th>379</th>\n",
              "      <td>2021-12-27</td>\n",
              "      <td>1020164224</td>\n",
              "      <td>1385836.0</td>\n",
              "      <td>50678.2</td>\n",
              "      <td>50783.6</td>\n",
              "      <td>52016.3</td>\n",
              "      <td>50459.0</td>\n",
              "      <td>43.90K</td>\n",
              "      <td>-0.20</td>\n",
              "    </tr>\n",
              "    <tr>\n",
              "      <th>380</th>\n",
              "      <td>2021-12-28</td>\n",
              "      <td>1023231234</td>\n",
              "      <td>3067010.0</td>\n",
              "      <td>47545.2</td>\n",
              "      <td>50703.4</td>\n",
              "      <td>50703.8</td>\n",
              "      <td>47345.7</td>\n",
              "      <td>74.39K</td>\n",
              "      <td>-6.18</td>\n",
              "    </tr>\n",
              "    <tr>\n",
              "      <th>381</th>\n",
              "      <td>2021-12-29</td>\n",
              "      <td>1025850287</td>\n",
              "      <td>2619053.0</td>\n",
              "      <td>46461.7</td>\n",
              "      <td>47548.4</td>\n",
              "      <td>48121.7</td>\n",
              "      <td>46127.8</td>\n",
              "      <td>63.92K</td>\n",
              "      <td>-2.28</td>\n",
              "    </tr>\n",
              "    <tr>\n",
              "      <th>382</th>\n",
              "      <td>2021-12-30</td>\n",
              "      <td>1028559940</td>\n",
              "      <td>2709653.0</td>\n",
              "      <td>47123.3</td>\n",
              "      <td>46470.7</td>\n",
              "      <td>47901.4</td>\n",
              "      <td>46003.0</td>\n",
              "      <td>60.96K</td>\n",
              "      <td>1.42</td>\n",
              "    </tr>\n",
              "    <tr>\n",
              "      <th>383</th>\n",
              "      <td>2021-12-31</td>\n",
              "      <td>1031882205</td>\n",
              "      <td>3322265.0</td>\n",
              "      <td>46219.5</td>\n",
              "      <td>47123.3</td>\n",
              "      <td>48553.9</td>\n",
              "      <td>45693.6</td>\n",
              "      <td>58.18K</td>\n",
              "      <td>-1.92</td>\n",
              "    </tr>\n",
              "  </tbody>\n",
              "</table>\n",
              "<p>384 rows × 9 columns</p>\n",
              "</div>"
            ],
            "text/plain": [
              "          Date  Administered  Administered_new    Price     Open     High  \\\n",
              "0   2020-12-13             0               0.0  19176.8  18808.1  19403.6   \n",
              "1   2020-12-14          1018            1018.0  19273.8  19176.4  19346.5   \n",
              "2   2020-12-15         25276           24258.0  19434.9  19273.9  19556.3   \n",
              "3   2020-12-16        103268           77992.0  21352.2  19434.7  21525.3   \n",
              "4   2020-12-17        254684          151416.0  22825.4  21352.3  23738.0   \n",
              "..         ...           ...               ...      ...      ...      ...   \n",
              "379 2021-12-27    1020164224         1385836.0  50678.2  50783.6  52016.3   \n",
              "380 2021-12-28    1023231234         3067010.0  47545.2  50703.4  50703.8   \n",
              "381 2021-12-29    1025850287         2619053.0  46461.7  47548.4  48121.7   \n",
              "382 2021-12-30    1028559940         2709653.0  47123.3  46470.7  47901.4   \n",
              "383 2021-12-31    1031882205         3322265.0  46219.5  47123.3  48553.9   \n",
              "\n",
              "         Low     Vol.  Change %  \n",
              "0    18716.8   82.45K      1.96  \n",
              "1    19007.0   67.11K      0.51  \n",
              "2    19076.2   98.39K      0.84  \n",
              "3    19299.7  199.81K      9.87  \n",
              "4    21243.1  310.74K      6.90  \n",
              "..       ...      ...       ...  \n",
              "379  50459.0   43.90K     -0.20  \n",
              "380  47345.7   74.39K     -6.18  \n",
              "381  46127.8   63.92K     -2.28  \n",
              "382  46003.0   60.96K      1.42  \n",
              "383  45693.6   58.18K     -1.92  \n",
              "\n",
              "[384 rows x 9 columns]"
            ]
          },
          "execution_count": 89,
          "metadata": {},
          "output_type": "execute_result"
        }
      ],
      "source": [
        "btc_vaccine_data = us_vaccine_data.merge(btc_data, how='inner', on='Date')\n",
        "btc_vaccine_data"
      ]
    },
    {
      "cell_type": "code",
      "execution_count": null,
      "id": "49d4dd94",
      "metadata": {
        "scrolled": true,
        "id": "49d4dd94",
        "outputId": "56e8b00f-eb4e-40d7-e9e8-25a68f46bc90"
      },
      "outputs": [
        {
          "data": {
            "text/plain": [
              "Text(0.5, 1.0, 'bitcoin price over time')"
            ]
          },
          "execution_count": 90,
          "metadata": {},
          "output_type": "execute_result"
        },
        {
          "data": {
            "image/png": "[encoded data removed]",
            "text/plain": [
              "<Figure size 1080x360 with 2 Axes>"
            ]
          },
          "metadata": {
            "needs_background": "light"
          },
          "output_type": "display_data"
        }
      ],
      "source": [
        "plt.figure(figsize=(15, 5))\n",
        "plt.subplot(121)\n",
        "plt.gca().xaxis.set_major_formatter(mdates.DateFormatter('%Y-%m'))\n",
        "plt.gcf().autofmt_xdate()\n",
        "plt.plot(btc_vaccine_data['Date'], btc_vaccine_data['Administered_new'].to_numpy())\n",
        "plt.axhline(y=btc_vaccine_data['Administered_new'].mean(), color='r', linestyle='--')\n",
        "plt.axhline(y=btc_vaccine_data['Administered_new'].median(), color='r', linestyle='-.')\n",
        "plt.legend(['new Administered','mean','median'])\n",
        "plt.title('vaccination data over time')\n",
        "plt.subplot(122)\n",
        "plt.gca().xaxis.set_major_formatter(mdates.DateFormatter('%Y-%m'))\n",
        "plt.gcf().autofmt_xdate()\n",
        "plt.plot(btc_vaccine_data['Date'], btc_vaccine_data['Price'].to_numpy())\n",
        "plt.axhline(y=btc_vaccine_data['Price'].mean(), color='r', linestyle='--')\n",
        "plt.axhline(y=btc_vaccine_data['Price'].median(), color='r', linestyle='-.')\n",
        "plt.legend(['bitcoint price','mean','median'])\n",
        "plt.title('bitcoin price over time')"
      ]
    },
    {
      "cell_type": "markdown",
      "id": "706a0760",
      "metadata": {
        "id": "706a0760"
      },
      "source": [
        "### e. Check if new administered and bitcoin price are linear correlated\n",
        "Common beliefs suggest that COVID19 vaccination rate may have impact on the bitcoin price but not the otherway around.\n",
        "So, to investigate the impact of vaccination data towards bitcoin dataset, the pearson correlation test can check for possible linear\n",
        "relationship between to Dataset.\n",
        "1. H0:  new administartion and bitcoin price are NOT linearly correlated; H1:  new administartion and bitcoin price are linearly correlated\n",
        "2. Compute S(x,y)"
      ]
    },
    {
      "cell_type": "code",
      "execution_count": null,
      "id": "5e083cfc",
      "metadata": {
        "id": "5e083cfc"
      },
      "outputs": [],
      "source": [
        "def compute_corr(X,Y):\n",
        "    n = X.shape[0]\n",
        "    X_bar = X.mean()\n",
        "    Y_bar = Y.mean()\n",
        "    covar = 0\n",
        "    sigma2X = 0\n",
        "    sigma2Y = 0\n",
        "    for i in range(n):\n",
        "        covar += (X[i] - X_bar) * (Y[i] - Y_bar)\n",
        "        sigma2X += (X[i] - X_bar)**2\n",
        "        sigma2Y += (Y[i] - Y_bar)**2\n",
        "    corr = covar / ((np.sqrt(sigma2X)) * (np.sqrt(sigma2Y)))\n",
        "    return corr"
      ]
    },
    {
      "cell_type": "code",
      "execution_count": null,
      "id": "d439cb4a",
      "metadata": {
        "id": "d439cb4a",
        "outputId": "21c290cc-da13-49e9-c9cc-12bb758e957c"
      },
      "outputs": [
        {
          "name": "stdout",
          "output_type": "stream",
          "text": [
            "The correlation between new administered and bitcoin Price is 0.47584162257973517\n"
          ]
        }
      ],
      "source": [
        "corr_vac_pr = compute_corr(btc_vaccine_data['Administered_new'],btc_vaccine_data['Price'])\n",
        "print(('The correlation between new administered and bitcoin Price is {}').format(corr_vac_pr))"
      ]
    },
    {
      "cell_type": "markdown",
      "id": "da0541d5",
      "metadata": {
        "id": "da0541d5"
      },
      "source": [
        "Sicne the absolute value of correlation is smaller than 0.5. We accept the original assumption.\n",
        "Therefore, vaccination rate and bitcoin price are NOT linearly correlated. Thus we infer the vaccination wouldn't affect the bitcoin price."
      ]
    },
    {
      "cell_type": "markdown",
      "id": "4f9eeef8",
      "metadata": {
        "id": "4f9eeef8"
      },
      "source": [
        "### Comment on inferences\n",
        "Above, we used Chi-square test, Z-test, and Pearson correlation test. Among these three, the Z test is the best tool for investigating the impact of COVID. \n",
        "1. The Pearson correlation test only concerns the linear dependence between two datasets. And possible non-linear dependency might not be captured.\n",
        "2. The Chi-square test divides the bitcoin price into two sets, so for the new cases number/ new deaths number. However, this clear cutoff highly depends on the cutoff value. And it might not suits every data distribution(multilevel etc). \n",
        "3. Z-test only divides new cases number/ new deaths number into two sets, and it can capture non-linear dependencies.\n",
        "To sum up, Z-test is the best inference tool overall. And we conclude that the COVID has an impact on the bitcoin price."
      ]
    },
    {
      "cell_type": "markdown",
      "id": "e254e721",
      "metadata": {
        "id": "e254e721"
      },
      "source": [
        "## Part 2"
      ]
    },
    {
      "cell_type": "code",
      "execution_count": null,
      "id": "2835c804",
      "metadata": {
        "id": "2835c804"
      },
      "outputs": [],
      "source": [
        ""
      ]
    },
    {
      "cell_type": "code",
      "execution_count": null,
      "id": "13042017",
      "metadata": {
        "id": "13042017"
      },
      "outputs": [],
      "source": [
        ""
      ]
    },
    {
      "cell_type": "code",
      "execution_count": null,
      "id": "d865cfbf",
      "metadata": {
        "id": "d865cfbf"
      },
      "outputs": [],
      "source": [
        ""
      ]
    },
    {
      "cell_type": "code",
      "execution_count": null,
      "id": "c2c0ddcf",
      "metadata": {
        "id": "c2c0ddcf"
      },
      "outputs": [],
      "source": [
        ""
      ]
    },
    {
      "cell_type": "code",
      "execution_count": null,
      "id": "341b0951",
      "metadata": {
        "id": "341b0951"
      },
      "outputs": [],
      "source": [
        ""
      ]
    },
    {
      "cell_type": "code",
      "execution_count": null,
      "id": "e5db4e58",
      "metadata": {
        "id": "e5db4e58"
      },
      "outputs": [],
      "source": [
        ""
      ]
    },
    {
      "cell_type": "code",
      "execution_count": null,
      "id": "55e77a6c",
      "metadata": {
        "id": "55e77a6c"
      },
      "outputs": [],
      "source": [
        ""
      ]
    },
    {
      "cell_type": "code",
      "execution_count": null,
      "id": "8bf8d696",
      "metadata": {
        "id": "8bf8d696"
      },
      "outputs": [],
      "source": [
        ""
      ]
    },
    {
      "cell_type": "code",
      "execution_count": null,
      "id": "d7eef52b",
      "metadata": {
        "id": "d7eef52b"
      },
      "outputs": [],
      "source": [
        ""
      ]
    },
    {
      "cell_type": "code",
      "execution_count": null,
      "id": "ca5d29af",
      "metadata": {
        "id": "ca5d29af"
      },
      "outputs": [],
      "source": [
        ""
      ]
    }
  ],
  "metadata": {
    "kernelspec": {
      "display_name": "Python 3",
      "language": "python",
      "name": "python3"
    },
    "language_info": {
      "codemirror_mode": {
        "name": "ipython",
        "version": 3
      },
      "file_extension": ".py",
      "mimetype": "text/x-python",
      "name": "python",
      "nbconvert_exporter": "python",
      "pygments_lexer": "ipython3",
      "version": "3.7.9"
    },
    "colab": {
      "name": "CSE 544 Project.ipynb",
      "provenance": [],
      "toc_visible": true
    }
  },
  "nbformat": 4,
  "nbformat_minor": 5
}